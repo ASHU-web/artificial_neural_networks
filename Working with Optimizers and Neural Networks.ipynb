{
  "nbformat": 4,
  "nbformat_minor": 0,
  "metadata": {
    "colab": {
      "name": "Copy of ASHUTOSH GARG - l1.ipynb",
      "provenance": [],
      "collapsed_sections": []
    },
    "kernelspec": {
      "name": "python3",
      "display_name": "Python 3"
    },
    "language_info": {
      "name": "python"
    }
  },
  "cells": [
    {
      "cell_type": "code",
      "metadata": {
        "id": "6DF11Nj20oVD"
      },
      "source": [
        "# Import the necessary libraries here\n",
        "import tensorflow as tf\n",
        "import math\n",
        "import numpy as"
      ],
      "execution_count": null,
      "outputs": []
    },
    {
      "cell_type": "markdown",
      "metadata": {
        "id": "ea0K7x75411P"
      },
      "source": [
        "\n",
        "# Section 1: Optimizers\n",
        "\n",
        "\n",
        "\n",
        "\n",
        "# 4 Optimisers are studied for different types of functions.\n",
        "\n",
        "\n",
        "* Mini batch Gradient descent\n",
        "* SGD with Momentum \n",
        "* Nesterov's Accelerated Gradient \n",
        "* Adam\n"
      ]
    },
    {
      "cell_type": "markdown",
      "metadata": {
        "id": "V5s5_CCDskfp"
      },
      "source": [
        "# Solution Seciton 1: \n"
      ]
    },
    {
      "cell_type": "markdown",
      "metadata": {
        "id": "znIhYKUq-8p6"
      },
      "source": [
        "### Function 1\n",
        "\n",
        "$f(w_1,w_2)=a_1(w_1-b_1)^2 +a_2(w_2-b_2)^2+c$ "
      ]
    },
    {
      "cell_type": "markdown",
      "metadata": {
        "id": "k4v8eE6Itoyu"
      },
      "source": [
        "Case 1: Adam"
      ]
    },
    {
      "cell_type": "code",
      "metadata": {
        "id": "9cTPMDoKBRD5"
      },
      "source": [
        "\n",
        "a1 = 2.93\n",
        "a2 = 2.34\n",
        "b1 = 13.45\n",
        "b2 = 45.56\n",
        "c = 532.44\n",
        "optim = tf.keras.optimizers.Adam(learning_rate=0.1)\n",
        "step_num_adam = []\n",
        "w1 = tf.Variable(12.0)\n",
        "w2 = tf.Variable(13.0)\n",
        "loss = lambda: a1*((w1-b1)**2) + a2*((w2-b2)**2) + c\n",
        "for i in range(0,700):\n",
        "  ste = optim.minimize(loss, [w1, w2]).numpy()\n",
        "  step_num_adam.append(loss().numpy())"
      ],
      "execution_count": null,
      "outputs": []
    },
    {
      "cell_type": "markdown",
      "metadata": {
        "id": "Z6DwPliDtncW"
      },
      "source": [
        "Case 2: SGD - Mini Batch GD"
      ]
    },
    {
      "cell_type": "code",
      "metadata": {
        "id": "svr2qlrGeahU"
      },
      "source": [
        "a1 = 2.93\n",
        "a2 = 2.34\n",
        "b1 = 13.45\n",
        "b2 = 45.56\n",
        "c = 532.44\n",
        "optim = tf.keras.optimizers.SGD(learning_rate=0.01)\n",
        "step_num_SGD = []\n",
        "w1 = tf.Variable(12.0)\n",
        "w2 = tf.Variable(13.0)\n",
        "loss = lambda: a1*((w1-b1)**2) + a2*((w2-b2)**2) + c\n",
        "for i in range(0,100):\n",
        "  ste = optim.minimize(loss, [w1, w2]).numpy()\n",
        "  step_num_SGD.append(loss().numpy())"
      ],
      "execution_count": null,
      "outputs": []
    },
    {
      "cell_type": "markdown",
      "metadata": {
        "id": "HagpRLm65rKt"
      },
      "source": [
        "Case 3: SGD with momentum"
      ]
    },
    {
      "cell_type": "code",
      "metadata": {
        "id": "edBNJ3Jw54yM"
      },
      "source": [
        "\n",
        "a1 = 2.93\n",
        "a2 = 2.34\n",
        "b1 = 13.45\n",
        "b2 = 45.56\n",
        "c = 532.44\n",
        "optim = tf.keras.optimizers.SGD(learning_rate=0.01, momentum=0.1)\n",
        "step_num_SGD_MOM = []\n",
        "w1 = tf.Variable(12.0)\n",
        "w2 = tf.Variable(13.0)\n",
        "loss = lambda: a1*((w1-b1)**2) + a2*((w2-b2)**2) + c\n",
        "for i in range(0,100):\n",
        "  ste = optim.minimize(loss, [w1, w2]).numpy()\n",
        "  step_num_SGD_MOM.append(loss().numpy())"
      ],
      "execution_count": null,
      "outputs": []
    },
    {
      "cell_type": "markdown",
      "metadata": {
        "id": "8La7VFGW8CTg"
      },
      "source": [
        "Case 4: SGD Nestrov accelerated gradient"
      ]
    },
    {
      "cell_type": "code",
      "metadata": {
        "id": "f8Bqvo_-8UlL"
      },
      "source": [
        "a1 = 2.93\n",
        "a2 = 2.34\n",
        "b1 = 13.45\n",
        "b2 = 45.56\n",
        "c = 532.44\n",
        "optim = tf.keras.optimizers.SGD(learning_rate=0.01,momentum=0.01, nesterov= True)\n",
        "step_num_SGD_NES = []\n",
        "w1 = tf.Variable(12.0)\n",
        "w2 = tf.Variable(13.0)\n",
        "loss = lambda: a1*((w1-b1)**2) + a2*((w2-b2)**2) + c\n",
        "for i in range(0,100):\n",
        "  ste = optim.minimize(loss, [w1, w2]).numpy()\n",
        "  step_num_SGD_NES.append(loss().numpy())"
      ],
      "execution_count": null,
      "outputs": []
    },
    {
      "cell_type": "code",
      "metadata": {
        "id": "1EB62pKWelbJ",
        "colab": {
          "base_uri": "https://localhost:8080/",
          "height": 401
        },
        "outputId": "59a94a7f-236b-4873-bb2b-10589211c36b"
      },
      "source": [
        "import matplotlib.pyplot as plt\n",
        "plt.xlabel('Epochs')\n",
        "plt.ylabel('Loss function Function values for w1 and w2 optimised after each step')\n",
        "plt.title('Function 1 Convex funtion - Different optimizer Performance comparison')\n",
        "plt.plot(step_num_adam)\n",
        "plt.plot(step_num_SGD)\n",
        "plt.plot(step_num_SGD_MOM)\n",
        "plt.plot(step_num_SGD_NES)\n",
        "plt.legend(['Adam', 'SGD', 'SGD with momentum', 'Nestrov Accelerated'])"
      ],
      "execution_count": null,
      "outputs": [
        {
          "output_type": "execute_result",
          "data": {
            "text/plain": [
              "<matplotlib.legend.Legend at 0x7f67bdef2f50>"
            ]
          },
          "metadata": {},
          "execution_count": 196
        },
        {
          "output_type": "display_data",
          "data": {
            "image/png": "[encoded data removed]",
            "text/plain": [
              "<Figure size 432x288 with 1 Axes>"
            ]
          },
          "metadata": {
            "needs_background": "light"
          }
        }
      ]
    },
    {
      "cell_type": "code",
      "metadata": {
        "colab": {
          "base_uri": "https://localhost:8080/",
          "height": 401
        },
        "id": "dU5aSyqIPXqf",
        "outputId": "50977a7a-70ae-4e0b-f5ee-539a90255acd"
      },
      "source": [
        "\n",
        "plt.xlabel('Epochs')\n",
        "plt.ylabel('Loss function Function values for w1 and w2 optimised after each step')\n",
        "plt.title('Function 1 Convex funtion - Different optimizer Performance comparison')\n",
        "\n",
        "plt.plot(step_num_SGD)\n",
        "plt.plot(step_num_SGD_MOM)\n",
        "plt.plot(step_num_SGD_NES)\n",
        "plt.legend([ 'SGD', 'SGD with momentum', 'Nestrov Accelerated'])"
      ],
      "execution_count": null,
      "outputs": [
        {
          "output_type": "execute_result",
          "data": {
            "text/plain": [
              "<matplotlib.legend.Legend at 0x7f67bdef87d0>"
            ]
          },
          "metadata": {},
          "execution_count": 197
        },
        {
          "output_type": "display_data",
          "data": {
            "image/png": "[encoded data removed]",
            "text/plain": [
              "<Figure size 432x288 with 1 Axes>"
            ]
          },
          "metadata": {
            "needs_background": "light"
          }
        }
      ]
    },
    {
      "cell_type": "markdown",
      "metadata": {
        "id": "gfolPXhmPgrD"
      },
      "source": [
        "From the above 2 plots we can see that the adam optimiser work very slowly even after having a high learning rate whereas in case of SGD, SGD with momentum and Nestrov SGD, the convergence to minima is very fast, from the second plot it can be observed that the SGD with momentum performs slightly better than others."
      ]
    },
    {
      "cell_type": "markdown",
      "metadata": {
        "id": "M93w2n1X9mHi"
      },
      "source": [
        "## Function 2: Rosenbrock function\n",
        "\n",
        "###Case 1: Adam\n",
        "###Case 2: SGD - Mini Batch GD\n",
        "###Case 3: SGD with momentum\n",
        "###Case 4: SGD Nestrov accelerated gradient\n"
      ]
    },
    {
      "cell_type": "code",
      "metadata": {
        "id": "xAXEXgc8nvme"
      },
      "source": [
        "optim = tf.keras.optimizers.Adam(learning_rate=0.01)\n",
        "step_num_Adam_RB = []\n",
        "w1 = tf.Variable(1.0)\n",
        "w2 = tf.Variable(13.0)\n",
        "lossss = lambda: 100.0*((w2 - (w1)**2)**2) + (1-w1)**2\n",
        "for i in range(0,1000):\n",
        "  ste = optim.minimize(lossss, [w1, w2]).numpy()\n",
        "  step_num_Adam_RB.append(lossss().numpy())"
      ],
      "execution_count": null,
      "outputs": []
    },
    {
      "cell_type": "code",
      "metadata": {
        "id": "0NAIjufR-l41"
      },
      "source": [
        "optim = tf.keras.optimizers.SGD(learning_rate=0.01)\n",
        "step_num_SGD_RB = []\n",
        "w1 = tf.Variable(1.0)\n",
        "w2 = tf.Variable(13.0)\n",
        "lossss = lambda: 100.0*((w2 - (w1)**2)**2) + (1-w1)**2\n",
        "for i in range(0,100):\n",
        "  ste = optim.minimize(lossss, [w1, w2]).numpy()\n",
        "  step_num_SGD_RB.append(lossss().numpy())"
      ],
      "execution_count": null,
      "outputs": []
    },
    {
      "cell_type": "code",
      "metadata": {
        "id": "_wF6ntYV-mMw"
      },
      "source": [
        "optim = tf.keras.optimizers.SGD(learning_rate=0.001, momentum=0.01)\n",
        "step_num_SGD_MOM_RB = []\n",
        "w1 = tf.Variable(1.0)\n",
        "w2 = tf.Variable(13.0)\n",
        "lossss = lambda: 100.0*((w2 - (w1)**2)**2) + (1-w1)**2\n",
        "for i in range(0,100):\n",
        "  ste = optim.minimize(lossss, [w1, w2]).numpy()\n",
        "  step_num_SGD_MOM_RB.append(lossss().numpy())"
      ],
      "execution_count": null,
      "outputs": []
    },
    {
      "cell_type": "code",
      "metadata": {
        "id": "6CNiEMZH-mbJ"
      },
      "source": [
        "optim = tf.keras.optimizers.SGD(learning_rate=0.01, momentum=0.01,nesterov=True)\n",
        "step_num_SGD_NES_RB = []\n",
        "w1 = tf.Variable(1.0)\n",
        "w2 = tf.Variable(13.0)\n",
        "lossss = lambda: 100.0*((w2 - (w1)**2)**2) + (1-w1)**2\n",
        "for i in range(0,100):\n",
        "  ste = optim.minimize(lossss, [w1, w2]).numpy()\n",
        "  step_num_SGD_NES_RB.append(lossss().numpy())"
      ],
      "execution_count": null,
      "outputs": []
    },
    {
      "cell_type": "code",
      "metadata": {
        "id": "1LwRPU4hWAj-",
        "colab": {
          "base_uri": "https://localhost:8080/",
          "height": 401
        },
        "outputId": "f54c7e81-b453-4ffd-e30c-980afb612ebb"
      },
      "source": [
        "plt.xlabel('Epochs')\n",
        "plt.ylabel('Loss function Function values for w1 and w2 optimised after each step')\n",
        "plt.title('Function 1 Convex funtion - Adam')\n",
        "plt.plot(step_num_Adam_RB)\n",
        "# plt.plot(step_num_SGD_RB)\n",
        "# plt.plot(step_num_SGD_MOM_RB)\n",
        "# plt.plot(step_num_SGD_NES_RB)\n",
        "plt.legend(['Adam'])"
      ],
      "execution_count": null,
      "outputs": [
        {
          "output_type": "execute_result",
          "data": {
            "text/plain": [
              "<matplotlib.legend.Legend at 0x7f67bee7d690>"
            ]
          },
          "metadata": {},
          "execution_count": 199
        },
        {
          "output_type": "display_data",
          "data": {
            "image/png": "[encoded data removed]",
            "text/plain": [
              "<Figure size 432x288 with 1 Axes>"
            ]
          },
          "metadata": {
            "needs_background": "light"
          }
        }
      ]
    },
    {
      "cell_type": "code",
      "metadata": {
        "colab": {
          "base_uri": "https://localhost:8080/",
          "height": 401
        },
        "id": "4eh_lGINTB5Z",
        "outputId": "12f7b8cc-a60a-4818-c327-9fcf97098c37"
      },
      "source": [
        "plt.xlabel('Epochs')\n",
        "plt.ylabel('Loss function Function values for w1 and w2 optimised after each step')\n",
        "plt.title('Function 1 Convex funtion - SGD')\n",
        "# plt.plot(step_num_Adam_RB)\n",
        "plt.plot(step_num_SGD_RB)\n",
        "# plt.plot(step_num_SGD_MOM_RB)\n",
        "# plt.plot(step_num_SGD_NES_RB)\n",
        "plt.legend(['SGD'])"
      ],
      "execution_count": null,
      "outputs": [
        {
          "output_type": "execute_result",
          "data": {
            "text/plain": [
              "<matplotlib.legend.Legend at 0x7f67be030b90>"
            ]
          },
          "metadata": {},
          "execution_count": 200
        },
        {
          "output_type": "display_data",
          "data": {
            "image/png": "[encoded data removed]",
            "text/plain": [
              "<Figure size 432x288 with 1 Axes>"
            ]
          },
          "metadata": {
            "needs_background": "light"
          }
        }
      ]
    },
    {
      "cell_type": "code",
      "metadata": {
        "colab": {
          "base_uri": "https://localhost:8080/",
          "height": 401
        },
        "id": "4zr1SBepTCIk",
        "outputId": "c71bef10-4205-4e39-ccb4-33a677ef1436"
      },
      "source": [
        "plt.xlabel('Epochs')\n",
        "plt.ylabel('Loss function Function values for w1 and w2 optimised after each step')\n",
        "plt.title('Function 1 Convex funtion - SGD with momentum')\n",
        "# plt.plot(step_num_Adam_RB)\n",
        "# plt.plot(step_num_SGD_RB)\n",
        "plt.plot(step_num_SGD_MOM_RB)\n",
        "# plt.plot(step_num_SGD_NES_RB)\n",
        "plt.legend(['SGD with momentum'])"
      ],
      "execution_count": null,
      "outputs": [
        {
          "output_type": "execute_result",
          "data": {
            "text/plain": [
              "<matplotlib.legend.Legend at 0x7f67ba02b690>"
            ]
          },
          "metadata": {},
          "execution_count": 201
        },
        {
          "output_type": "display_data",
          "data": {
            "image/png": "[encoded data removed]",
            "text/plain": [
              "<Figure size 432x288 with 1 Axes>"
            ]
          },
          "metadata": {
            "needs_background": "light"
          }
        }
      ]
    },
    {
      "cell_type": "code",
      "metadata": {
        "colab": {
          "base_uri": "https://localhost:8080/",
          "height": 401
        },
        "id": "oYFu4133TCVX",
        "outputId": "1b121d8f-60c8-4c59-d6aa-8859bc90d7c1"
      },
      "source": [
        "plt.xlabel('Epochs')\n",
        "plt.ylabel('Loss function Function values for w1 and w2 optimised after each step')\n",
        "plt.title('Function 1 Convex funtion - Nestrov acc gradient')\n",
        "# plt.plot(step_num_Adam_RB)\n",
        "# plt.plot(step_num_SGD_RB)\n",
        "# plt.plot(step_num_SGD_MOM_RB)\n",
        "plt.plot(step_num_SGD_NES_RB)\n",
        "plt.legend(['Nestrov Accelerated'])"
      ],
      "execution_count": null,
      "outputs": [
        {
          "output_type": "execute_result",
          "data": {
            "text/plain": [
              "<matplotlib.legend.Legend at 0x7f67b9e659d0>"
            ]
          },
          "metadata": {},
          "execution_count": 202
        },
        {
          "output_type": "display_data",
          "data": {
            "image/png": "[encoded data removed]",
            "text/plain": [
              "<Figure size 432x288 with 1 Axes>"
            ]
          },
          "metadata": {
            "needs_background": "light"
          }
        }
      ]
    },
    {
      "cell_type": "markdown",
      "metadata": {
        "id": "v8q9xD9tTuT5"
      },
      "source": [
        "From above we can clearly obeserve that the SGD, SGD with momentum and Nestov SGD are not doing well with this non convex function and Adam performed fairly well "
      ]
    },
    {
      "cell_type": "markdown",
      "metadata": {
        "id": "Uf1pZYeC-u6Q"
      },
      "source": [
        "## Function 3: Beale function\n",
        "$f(w_1,w_2) = (1.5-w_1+w_1w_2)^2 + (2.25-w_1+w_1w_2^2)^2 + (2.625-w_1+w_1w_2^3)^2$\n",
        "\n",
        "###Case 1: Adam\n",
        "###Case 2: SGD - Mini Batch GD\n",
        "###Case 3: SGD with momentum\n",
        "###Case 4: SGD Nestrov accelerated gradient"
      ]
    },
    {
      "cell_type": "code",
      "metadata": {
        "id": "bKws7X6o-25c"
      },
      "source": [
        "optim = tf.keras.optimizers.Adam(learning_rate=0.01)\n",
        "step_num_Adam_BLE = []\n",
        "w1 = tf.Variable(1.0)\n",
        "w2 = tf.Variable(13.0)\n",
        "lossss = lambda: (1.5 - w1 + w1* w2)**2 + (2.25 - w1 + w1*(w2**2))**2 + (2.625 - w1 + w1*(w2**3))**2\n",
        "for i in range(0,500):\n",
        "  ste = optim.minimize(lossss, [w1, w2]).numpy()\n",
        "  step_num_Adam_BLE.append(lossss().numpy())"
      ],
      "execution_count": null,
      "outputs": []
    },
    {
      "cell_type": "code",
      "metadata": {
        "colab": {
          "base_uri": "https://localhost:8080/"
        },
        "id": "B4VI66pL-3IS",
        "outputId": "257011bb-57a8-41b8-da0b-e7e87dc893b1"
      },
      "source": [
        "optim = tf.keras.optimizers.SGD(learning_rate=0.0001)\n",
        "step_num_SGD_BLE = []\n",
        "w1 = tf.Variable(1.0)\n",
        "w2 = tf.Variable(13.0)\n",
        "lossss = lambda: (1.5 - w1 + w1* w2)**2 + (2.25 - w1 + w1*(w2**2))**2 + (2.625 - w1 + w1*(w2**3))**2\n",
        "for i in range(0,500):\n",
        "  ste = optim.minimize(lossss, [w1, w2]).numpy()\n",
        "  step_num_SGD_BLE.append(lossss().numpy())\n",
        "lossss()"
      ],
      "execution_count": null,
      "outputs": [
        {
          "output_type": "execute_result",
          "data": {
            "text/plain": [
              "<tf.Tensor: shape=(), dtype=float32, numpy=nan>"
            ]
          },
          "metadata": {},
          "execution_count": 157
        }
      ]
    },
    {
      "cell_type": "code",
      "metadata": {
        "colab": {
          "base_uri": "https://localhost:8080/"
        },
        "id": "VTlow-W4-3YT",
        "outputId": "3c546a08-0c3a-4a68-a308-244fc151870e"
      },
      "source": [
        "optim = tf.keras.optimizers.SGD(learning_rate=0.0001, momentum=0.01)\n",
        "step_num_SGD_MOM_BLE = []\n",
        "w1 = tf.Variable(1.0)\n",
        "w2 = tf.Variable(13.0)\n",
        "lossss = lambda: (1.5 - w1 + w1* w2)**2 + (2.25 - w1 + w1*(w2**2))**2 + (2.625 - w1 + w1*(w2**3))**2\n",
        "for i in range(0,500):\n",
        "  ste = optim.minimize(lossss, [w1, w2]).numpy()\n",
        "  step_num_SGD_MOM_BLE.append(lossss().numpy())\n",
        "\n",
        "lossss()"
      ],
      "execution_count": null,
      "outputs": [
        {
          "output_type": "execute_result",
          "data": {
            "text/plain": [
              "<tf.Tensor: shape=(), dtype=float32, numpy=nan>"
            ]
          },
          "metadata": {},
          "execution_count": 158
        }
      ]
    },
    {
      "cell_type": "code",
      "metadata": {
        "colab": {
          "base_uri": "https://localhost:8080/"
        },
        "id": "g_fC668X-3qr",
        "outputId": "5df0d20b-1294-4562-f4cd-ddbe649de005"
      },
      "source": [
        "optim = tf.keras.optimizers.SGD(learning_rate=0.00001,momentum=0.00001, nesterov=True)\n",
        "step_num_SGD_NES_BLE = []\n",
        "w1 = tf.Variable(1.0)\n",
        "w2 = tf.Variable(13.0)\n",
        "lossss = lambda: (1.5 - w1 + w1* w2)**2 + (2.25 - w1 + w1*(w2**2))**2 + (2.625 - w1 + w1*(w2**3))**2\n",
        "for i in range(0,500):\n",
        "  ste = optim.minimize(lossss, [w1, w2]).numpy()\n",
        "  step_num_SGD_NES_BLE.append(lossss().numpy())\n",
        "\n",
        "lossss()"
      ],
      "execution_count": null,
      "outputs": [
        {
          "output_type": "execute_result",
          "data": {
            "text/plain": [
              "<tf.Tensor: shape=(), dtype=float32, numpy=nan>"
            ]
          },
          "metadata": {},
          "execution_count": 205
        }
      ]
    },
    {
      "cell_type": "code",
      "metadata": {
        "colab": {
          "base_uri": "https://localhost:8080/",
          "height": 401
        },
        "id": "VgqKEKnz-33W",
        "outputId": "c505253a-b59a-493f-c8b9-e3b977b48741"
      },
      "source": [
        "\n",
        "plt.xlabel('Epochs')\n",
        "plt.ylabel('Loss function Function values for w1 and w2 optimised after each step')\n",
        "plt.title('Baele Function non Convex funtion - Different optimizer Performance comparison')\n",
        "plt.plot(step_num_Adam_BLE)\n",
        "# plt.plot(step_num_SGD_BLE)\n",
        "# plt.plot(step_num_SGD_MOM_BLE)\n",
        "# plt.plot(step_num_SGD_NES_BLE)\n",
        "plt.legend([ 'SGD', 'SGD with momentum', 'Nestrov Accelerated'])"
      ],
      "execution_count": null,
      "outputs": [
        {
          "output_type": "execute_result",
          "data": {
            "text/plain": [
              "<matplotlib.legend.Legend at 0x7f67ba182a90>"
            ]
          },
          "metadata": {},
          "execution_count": 204
        },
        {
          "output_type": "display_data",
          "data": {
            "image/png": "[encoded data removed]",
            "text/plain": [
              "<Figure size 432x288 with 1 Axes>"
            ]
          },
          "metadata": {
            "needs_background": "light"
          }
        }
      ]
    },
    {
      "cell_type": "markdown",
      "metadata": {
        "id": "WvGHg6IaUtsQ"
      },
      "source": [
        "Here also Adam is working well whereas other three are not able to give any performance."
      ]
    },
    {
      "cell_type": "markdown",
      "metadata": {
        "id": "wxiMw8Iq-4YZ"
      },
      "source": [
        "## Function 4: Ackley function \n",
        "\n",
        "$f(w_1,w_2) = -20exp\\bigg[-0.2\\sqrt{0.5(w_1^2+w_2^2)}\\bigg]-exp\\bigg[0.5(\\cos{2\\pi w_1}+\\cos{2\\pi w_2})\\bigg]+exp[1]+20$\n",
        "\n",
        "###Case 1: Adam\n",
        "###Case 2: SGD - Mini Batch GD\n",
        "###Case 3: SGD with momentum\n",
        "###Case 4: SGD Nestrov accelerated gradient"
      ]
    },
    {
      "cell_type": "code",
      "metadata": {
        "colab": {
          "base_uri": "https://localhost:8080/"
        },
        "id": "ifEuhSzG_VOq",
        "outputId": "46d079be-2cca-4e2b-eaf3-db853f142b0f"
      },
      "source": [
        "optim = tf.keras.optimizers.Adam(learning_rate=0.01)\n",
        "step_num_Adam_ACK = []\n",
        "w1 = tf.Variable(20.0)\n",
        "w2 = tf.Variable(13.0)\n",
        "lossss = lambda: w1*0 + w2*0  +(-20.0* 2.71**((-0.2*math.sqrt(0.5*(w1**2 + w2**2)))) - 2.71**(0.5*(math.cos(2.0*math.pi * w1) + math.cos(2.0*math.pi * w2))) + 2.71**(1.0) + 20.0)\n",
        "for i in range(0,500):\n",
        "  ste = optim.minimize(lossss, [w1, w2])\n",
        "  step_num_Adam_ACK.append(lossss())\n",
        "lossss()"
      ],
      "execution_count": null,
      "outputs": [
        {
          "output_type": "execute_result",
          "data": {
            "text/plain": [
              "<tf.Tensor: shape=(), dtype=float32, numpy=19.307467>"
            ]
          },
          "metadata": {},
          "execution_count": 179
        }
      ]
    },
    {
      "cell_type": "code",
      "metadata": {
        "colab": {
          "base_uri": "https://localhost:8080/"
        },
        "id": "fFX-7RaU_VYj",
        "outputId": "cfd60f55-d5a7-48a4-a593-6a2d26c7a989"
      },
      "source": [
        "optim = tf.keras.optimizers.SGD(learning_rate=0.01)\n",
        "step_num_SGD_ACK = []\n",
        "w1 = tf.Variable(20.0)\n",
        "w2 = tf.Variable(13.0)\n",
        "lossss = lambda: w1*0 + w2*0  +(-20.0* 2.71**((-0.2*math.sqrt(0.5*(w1**2 + w2**2)))) - 2.71**(0.5*(math.cos(2.0*math.pi * w1) + math.cos(2.0*math.pi * w2))) + 2.71**(1.0) + 20.0)\n",
        "for i in range(0,500):\n",
        "  ste = optim.minimize(lossss, [w1, w2])\n",
        "  step_num_SGD_ACK.append(lossss())\n",
        "lossss()"
      ],
      "execution_count": null,
      "outputs": [
        {
          "output_type": "execute_result",
          "data": {
            "text/plain": [
              "<tf.Tensor: shape=(), dtype=float32, numpy=19.307467>"
            ]
          },
          "metadata": {},
          "execution_count": 180
        }
      ]
    },
    {
      "cell_type": "code",
      "metadata": {
        "colab": {
          "base_uri": "https://localhost:8080/"
        },
        "id": "4xWsqDYn_Vis",
        "outputId": "4d2c15df-f255-4f3f-987e-6ddc24e3f898"
      },
      "source": [
        "optim = tf.keras.optimizers.SGD(learning_rate=0.01, momentum=0.01)\n",
        "step_num_SGD_MOM_ACK = []\n",
        "w1 = tf.Variable(20.0)\n",
        "w2 = tf.Variable(13.0)\n",
        "lossss = lambda: w1*0 + w2*0  +(-20.0* 2.71**((-0.2*math.sqrt(0.5*(w1**2 + w2**2)))) - 2.71**(0.5*(math.cos(2.0*math.pi * w1) + math.cos(2.0*math.pi * w2))) + 2.71**(1.0) + 20.0)\n",
        "for i in range(0,500):\n",
        "  ste = optim.minimize(lossss, [w1, w2])\n",
        "  step_num_SGD_MOM_ACK.append(lossss())\n",
        "lossss()"
      ],
      "execution_count": null,
      "outputs": [
        {
          "output_type": "execute_result",
          "data": {
            "text/plain": [
              "<tf.Tensor: shape=(), dtype=float32, numpy=19.307467>"
            ]
          },
          "metadata": {},
          "execution_count": 181
        }
      ]
    },
    {
      "cell_type": "code",
      "metadata": {
        "colab": {
          "base_uri": "https://localhost:8080/"
        },
        "id": "5GOZNIJw_Vvx",
        "outputId": "453eaad8-7726-4e3e-f38b-8fab864fa4b2"
      },
      "source": [
        "optim = tf.keras.optimizers.SGD(learning_rate=0.01,momentum = 0.01, nesterov= True)\n",
        "step_num_SGD_NES_ACK = []\n",
        "w1 = tf.Variable(20.0)\n",
        "w2 = tf.Variable(13.0)\n",
        "lossss = lambda: w1*0 + w2*0  +(-20.0* 2.71**((-0.2*math.sqrt(0.5*(w1**2 + w2**2)))) - 2.71**(0.5*(math.cos(2.0*math.pi * w1) + math.cos(2.0*math.pi * w2))) + 2.71**(1.0) + 20.0)\n",
        "for i in range(0,500):\n",
        "  ste = optim.minimize(lossss, [w1, w2])\n",
        "  step_num_SGD_NES_ACK.append(lossss())\n",
        "lossss()"
      ],
      "execution_count": null,
      "outputs": [
        {
          "output_type": "execute_result",
          "data": {
            "text/plain": [
              "<tf.Tensor: shape=(), dtype=float32, numpy=19.307467>"
            ]
          },
          "metadata": {},
          "execution_count": 206
        }
      ]
    },
    {
      "cell_type": "code",
      "metadata": {
        "colab": {
          "base_uri": "https://localhost:8080/",
          "height": 401
        },
        "id": "YEnHo6wK_V_g",
        "outputId": "0c8b5c95-6804-48c0-cbea-30a648487c16"
      },
      "source": [
        "plt.xlabel('Epochs')\n",
        "plt.ylabel('Loss function Function values for w1 and w2 optimised after each step')\n",
        "plt.title('Auckly Function non Convex funtion - Different optimizer Performance comparison')\n",
        "plt.plot(step_num_Adam_ACK)\n",
        "plt.plot(step_num_SGD_ACK)\n",
        "plt.plot(step_num_SGD_MOM_ACK)\n",
        "plt.plot(step_num_SGD_NES_ACK)\n",
        "plt.legend([ 'SGD', 'SGD with momentum', 'Nestrov Accelerated'])"
      ],
      "execution_count": null,
      "outputs": [
        {
          "output_type": "execute_result",
          "data": {
            "text/plain": [
              "<matplotlib.legend.Legend at 0x7f67b79a47d0>"
            ]
          },
          "metadata": {},
          "execution_count": 207
        },
        {
          "output_type": "display_data",
          "data": {
            "image/png": "[encoded data removed]",
            "text/plain": [
              "<Figure size 432x288 with 1 Axes>"
            ]
          },
          "metadata": {
            "needs_background": "light"
          }
        }
      ]
    },
    {
      "cell_type": "markdown",
      "metadata": {
        "id": "8RsCr6rDV7C1"
      },
      "source": [
        "# On this function, no optimiser is able to show any performance and is not able to update anything. It seems like for the exponential functions, these functions dont work well"
      ]
    },
    {
      "cell_type": "markdown",
      "metadata": {
        "id": "-fbW54Xw_Wrb"
      },
      "source": [
        "## Function 5: Rastrigin function \n",
        "\n",
        " $f(w_1,w_2) = w_1^2 + w_2^2 -10(\\cos{2\\pi w_1}+\\cos{2\\pi w_2}) + 20$\n",
        "\n",
        "###Case 1: Adam\n",
        "###Case 2: SGD - Mini Batch GD\n",
        "###Case 3: SGD with momentum\n",
        "###Case 4: SGD Nestrov accelerated gradient"
      ]
    },
    {
      "cell_type": "code",
      "metadata": {
        "id": "PCyv9ZxF_dCC"
      },
      "source": [
        "optim = tf.keras.optimizers.Adam(learning_rate=0.01)\n",
        "step_num_Adam_RAST = []\n",
        "w1 = tf.Variable(1.0)\n",
        "w2 = tf.Variable(13.0)\n",
        "lossss = lambda: w1**2  + w2**2 - 10*(math.cos(2*math.pi*w1) + math.cos(2*math.pi* w2))  + 20\n",
        "for i in range(0,1000):\n",
        "  ste = optim.minimize(lossss, [w1, w2]).numpy()\n",
        "  step_num_Adam_RAST.append(lossss().numpy())"
      ],
      "execution_count": null,
      "outputs": []
    },
    {
      "cell_type": "code",
      "metadata": {
        "id": "wZKXVUQL_dPD"
      },
      "source": [
        "optim = tf.keras.optimizers.SGD(learning_rate=0.01)\n",
        "step_num_SGD_RAST = []\n",
        "w1 = tf.Variable(1.0)\n",
        "w2 = tf.Variable(13.0)\n",
        "lossss = lambda: w1**2  + w2**2 - 10*(math.cos(2*math.pi*w1) + math.cos(2*math.pi* w2))  + 20\n",
        "for i in range(0,500):\n",
        "  ste = optim.minimize(lossss, [w1, w2]).numpy()\n",
        "  step_num_SGD_RAST.append(lossss().numpy())"
      ],
      "execution_count": null,
      "outputs": []
    },
    {
      "cell_type": "code",
      "metadata": {
        "id": "g13-m_Td_dR_"
      },
      "source": [
        "optim = tf.keras.optimizers.SGD(learning_rate=0.01, momentum=0.01)\n",
        "step_num_SGD_MOM_RAST = []\n",
        "w1 = tf.Variable(1.0)\n",
        "w2 = tf.Variable(13.0)\n",
        "lossss = lambda: w1**2  + w2**2 - 10*(math.cos(2*math.pi*w1) + math.cos(2*math.pi* w2))  + 20\n",
        "for i in range(0,500):\n",
        "  ste = optim.minimize(lossss, [w1, w2]).numpy()\n",
        "  step_num_SGD_MOM_RAST.append(lossss().numpy())"
      ],
      "execution_count": null,
      "outputs": []
    },
    {
      "cell_type": "code",
      "metadata": {
        "id": "8Rcu3r_u_dV7"
      },
      "source": [
        "optim = tf.keras.optimizers.SGD(learning_rate=0.01, nesterov=True)\n",
        "step_num_SGD_NES_RAST = []\n",
        "w1 = tf.Variable(1.0)\n",
        "w2 = tf.Variable(13.0)\n",
        "lossss = lambda: w1**2  + w2**2 - 10*(math.cos(2*math.pi*w1) + math.cos(2*math.pi* w2))  + 20\n",
        "for i in range(0,500):\n",
        "  ste = optim.minimize(lossss, [w1, w2]).numpy()\n",
        "  step_num_SGD_NES_RAST.append(lossss().numpy())"
      ],
      "execution_count": null,
      "outputs": []
    },
    {
      "cell_type": "code",
      "metadata": {
        "colab": {
          "base_uri": "https://localhost:8080/",
          "height": 401
        },
        "id": "3DA4RobL_dtY",
        "outputId": "f37cd5c2-8fcd-4e91-a2b6-234e46d14ede"
      },
      "source": [
        "plt.xlabel('Epochs')\n",
        "plt.ylabel('Loss function Function values for w1 and w2 optimised after each step')\n",
        "plt.title('Rastrigin Function non Convex funtion - Different optimizer Performance comparison')\n",
        "plt.plot(step_num_Adam_RAST)\n",
        "plt.plot(step_num_SGD_RAST)\n",
        "plt.plot(step_num_SGD_MOM_RAST)\n",
        "plt.plot(step_num_SGD_NES_RAST)\n",
        "plt.legend([ 'Adam','SGD', 'SGD with momentum', 'Nestrov Accelerated'])"
      ],
      "execution_count": null,
      "outputs": [
        {
          "output_type": "execute_result",
          "data": {
            "text/plain": [
              "<matplotlib.legend.Legend at 0x7f67b7c54c10>"
            ]
          },
          "metadata": {},
          "execution_count": 191
        },
        {
          "output_type": "display_data",
          "data": {
            "image/png": "[encoded data removed]",
            "text/plain": [
              "<Figure size 432x288 with 1 Axes>"
            ]
          },
          "metadata": {
            "needs_background": "light"
          }
        }
      ]
    },
    {
      "cell_type": "code",
      "metadata": {
        "colab": {
          "base_uri": "https://localhost:8080/",
          "height": 401
        },
        "id": "1mLUPojHaf8H",
        "outputId": "0fe039ab-2b68-4db4-fc77-4b12a4c89bd1"
      },
      "source": [
        "plt.xlabel('Epochs')\n",
        "plt.ylabel('Loss function Function values for w1 and w2 optimised after each step')\n",
        "plt.title('Rastrigin Function non Convex funtion - ADAM Performance comparison')\n",
        "plt.plot(step_num_Adam_RAST)\n",
        "\n",
        "plt.legend([ 'Adam'])"
      ],
      "execution_count": null,
      "outputs": [
        {
          "output_type": "execute_result",
          "data": {
            "text/plain": [
              "<matplotlib.legend.Legend at 0x7f67bfa2e210>"
            ]
          },
          "metadata": {},
          "execution_count": 194
        },
        {
          "output_type": "display_data",
          "data": {
            "image/png": "[encoded data removed]",
            "text/plain": [
              "<Figure size 432x288 with 1 Axes>"
            ]
          },
          "metadata": {
            "needs_background": "light"
          }
        }
      ]
    },
    {
      "cell_type": "markdown",
      "metadata": {
        "id": "5TRj4oKeZ7SM"
      },
      "source": [
        "on Rastrigin Function, the optimisers showed a wave like structure, in case of Adam, it is converging after a lot of iterations whereas in case of SGD, SGD with momentum and Nestrov SGD, they showed a almost same behaviour and converged very early than adam. "
      ]
    },
    {
      "cell_type": "markdown",
      "metadata": {
        "id": "TnPw0XaxbOaL"
      },
      "source": [
        "# Limitation of optimiser and ways to overcome them\n",
        "1. Adam: Adam optimiser is not able to generalise the model in most effective way.\n",
        "**Sol:** to overcom this, we can give the model a more generalise dataset to get trained.\n",
        "2. SGD: SGD updates the weights very quiclky and that is a limitation in a way that it may osscilate the function several time due to datapoint frequent updation and this very much depends on initial data. \n",
        "**Solution:** we can overcome this by adding momentum term in the velocity so that it may not stuck in an local minima which may not be the global minima.\n",
        "\n",
        "3. SGD with momentum: SGD with momentum is a improvement over SGD but it may sometime jump out of a global minima also and get distracted as it doesnt let the optimiser to slowdown easily.\n",
        "**Solution:** We can overcome this by using Nesterov Accelerated gradient as it can judge that when the minima has come and when to slow down the optimisation rate.\n",
        "\n",
        "4. Nesterov Acc. Gradient: NAG is also having some limitation in terms of the importance judgement matrix, even it may slow down the convergence when it is about to come, or make it fast when very far, but it is unable to prioritise the parameter. \n",
        "**Sol:**  to overcome this we can introdue different learning rates for different parameters."
      ]
    },
    {
      "cell_type": "markdown",
      "metadata": {
        "id": "fCP46U_4Pr8h"
      },
      "source": [
        "Dataset can be downloaded from https://www.kaggle.com/meemr5/vadapav\n",
        "# Data setup:\n",
        "<pre>\n",
        "<b>Root directory</b>\n",
        "|__ <b>burger</b> : [all burger images]\n",
        "|__ <b>vadapav</b>: [all vadapav images]\n",
        "</pre>\n",
        "\n",
        "Structure for data as \n",
        "\n",
        "<pre>\n",
        "<b>Root directory</b>\n",
        "|__ <b>train</b>\n",
        "    |______ <b>burger</b>: [80% burger images]\n",
        "    |______ <b>vadapav</b>: [80% vadapav images]\n",
        "|__ <b>validation</b>\n",
        "    |______ <b>burger</b>: [10% burger images]\n",
        "    |______ <b>vadapav</b>: [10% vadapav images]\n",
        "|__ <b>test</b>\n",
        "    |______ <b>burger</b>: [10% burger images]\n",
        "    |______ <b>vadapav</b>: [10% vadapav images]\n",
        "</pre>\n",
        "\n"
      ]
    },
    {
      "cell_type": "markdown",
      "metadata": {
        "id": "NPQKNISJKo5b"
      },
      "source": [
        "# 1. Importing the libraries and Resnet50 with no last layer is downloaded using keras "
      ]
    },
    {
      "cell_type": "code",
      "metadata": {
        "id": "E-lvlv-8-JFG",
        "colab": {
          "base_uri": "https://localhost:8080/"
        },
        "outputId": "ec4e3a77-03c1-46e8-ca1c-fc802a27c5ad"
      },
      "source": [
        "# All CNN experiments start here\n",
        "# image data geerator ->\n",
        "#modelcheckpoint -> reduce lr on plateu\n",
        "\n",
        "import tensorflow as tf\n",
        "inp = tf.keras.Input(shape=(32,32,3))\n",
        "model = tf.keras.applications.ResNet50(include_top=False, weights=\"imagenet\" )\n",
        "\n",
        "\n",
        "import matplotlib.pyplot as plt\n",
        "from sklearn.model_selection import GridSearchCV"
      ],
      "execution_count": null,
      "outputs": [
        {
          "output_type": "stream",
          "name": "stdout",
          "text": [
            "Downloading data from https://storage.googleapis.com/tensorflow/keras-applications/resnet/resnet50_weights_tf_dim_ordering_tf_kernels_notop.h5\n",
            "94773248/94765736 [==============================] - 1s 0us/step\n",
            "94781440/94765736 [==============================] - 1s 0us/step\n"
          ]
        }
      ]
    },
    {
      "cell_type": "markdown",
      "metadata": {
        "id": "y6ezOteQK4A-"
      },
      "source": [
        "# Connecting the Google drive for data import after structuring it in proper way"
      ]
    },
    {
      "cell_type": "code",
      "metadata": {
        "colab": {
          "base_uri": "https://localhost:8080/"
        },
        "id": "-0oPhEbr7D4u",
        "outputId": "045a5c86-5cba-4887-d9be-9a47f342f4d7"
      },
      "source": [
        "from google.colab import drive\n",
        "drive.mount('/content/drive')"
      ],
      "execution_count": null,
      "outputs": [
        {
          "output_type": "stream",
          "name": "stdout",
          "text": [
            "Mounted at /content/drive\n"
          ]
        }
      ]
    },
    {
      "cell_type": "code",
      "metadata": {
        "id": "uk7F0A5__J8U"
      },
      "source": [
        "from PIL import ImageFile\n",
        "ImageFile.LOAD_TRUNCATED_IMAGES = True"
      ],
      "execution_count": null,
      "outputs": []
    },
    {
      "cell_type": "code",
      "metadata": {
        "id": "v75VA5yW_wl3"
      },
      "source": [
        "root_dir_train = \"drive/MyDrive/ANN_2021_ASSIGNMENT_1/root_assignment1/train\"\n",
        "root_dir_test = \"drive/MyDrive/ANN_2021_ASSIGNMENT_1/root_assignment1/test\"\n",
        "root_dir_validation = \"drive/MyDrive/ANN_2021_ASSIGNMENT_1/root_assignment1/validation\""
      ],
      "execution_count": null,
      "outputs": []
    },
    {
      "cell_type": "markdown",
      "metadata": {
        "id": "JgR_fBpHLJHh"
      },
      "source": [
        "# 5. Data generator for train, test and validation "
      ]
    },
    {
      "cell_type": "code",
      "metadata": {
        "id": "FO51OlAH_RbI"
      },
      "source": [
        "img_height, img_width = (50,50)\n",
        "batch_size = 64"
      ],
      "execution_count": null,
      "outputs": []
    },
    {
      "cell_type": "code",
      "metadata": {
        "colab": {
          "base_uri": "https://localhost:8080/"
        },
        "id": "52Zh20QY_RtR",
        "outputId": "60949915-02d1-4c6e-bde0-dc40963a78e6"
      },
      "source": [
        "train_datagen = tf.keras.preprocessing.image.ImageDataGenerator(\n",
        "    preprocessing_function=tf.keras.applications.resnet50.preprocess_input)\n",
        "\n",
        "train_generator = train_datagen.flow_from_directory(root_dir_train,batch_size=batch_size, class_mode='categorical' , subset='training' )"
      ],
      "execution_count": null,
      "outputs": [
        {
          "output_type": "stream",
          "name": "stdout",
          "text": [
            "Found 931 images belonging to 2 classes.\n"
          ]
        }
      ]
    },
    {
      "cell_type": "code",
      "metadata": {
        "colab": {
          "base_uri": "https://localhost:8080/"
        },
        "id": "bASCeTTB_R_c",
        "outputId": "9e24c51e-0dbb-47a8-fcae-055bed9405c2"
      },
      "source": [
        "valid_datagen = tf.keras.preprocessing.image.ImageDataGenerator(\n",
        "    preprocessing_function=tf.keras.applications.resnet50.preprocess_input)\n",
        "valid_generator = valid_datagen.flow_from_directory(root_dir_validation,batch_size=batch_size, class_mode='categorical'  )"
      ],
      "execution_count": null,
      "outputs": [
        {
          "output_type": "stream",
          "name": "stdout",
          "text": [
            "Found 115 images belonging to 2 classes.\n"
          ]
        }
      ]
    },
    {
      "cell_type": "code",
      "metadata": {
        "colab": {
          "base_uri": "https://localhost:8080/"
        },
        "id": "GFU8jvF4_uHK",
        "outputId": "96e455da-e7ef-431e-bdc6-f30d7274528e"
      },
      "source": [
        "test_datagen = tf.keras.preprocessing.image.ImageDataGenerator(\n",
        "    preprocessing_function=tf.keras.applications.resnet50.preprocess_input)\n",
        "test_generator = test_datagen.flow_from_directory(root_dir_test,batch_size=batch_size, class_mode='categorical'  )"
      ],
      "execution_count": null,
      "outputs": [
        {
          "output_type": "stream",
          "name": "stdout",
          "text": [
            "Found 115 images belonging to 2 classes.\n"
          ]
        }
      ]
    },
    {
      "cell_type": "code",
      "metadata": {
        "id": "DhjIl-IaLVzI"
      },
      "source": [
        ""
      ],
      "execution_count": null,
      "outputs": []
    },
    {
      "cell_type": "markdown",
      "metadata": {
        "id": "PsgUDY2jLU6G"
      },
      "source": [
        "# freezing initial layers of the model so as to reduce the training time and also we have less data, training model fully wont be good as it may overfit, also Resnet50 is already pretrained with a lots of data before, hence we need to only finetune with our dataset"
      ]
    },
    {
      "cell_type": "code",
      "metadata": {
        "id": "k-ElPi6sClcO"
      },
      "source": [
        "for layer in model.layers:\n",
        "  layer.trainable = False"
      ],
      "execution_count": null,
      "outputs": []
    },
    {
      "cell_type": "markdown",
      "metadata": {
        "id": "gcKT-Hp7L3Qa"
      },
      "source": [
        "# Create_model function is made in order to define fully connected layers for classifying 2 objects. \n",
        "# Adam Optimiser with variable learning rate is also defined here.\n",
        "#Loss function we defined is categorical_crossentropy loss as it is considered good for the classification tasks"
      ]
    },
    {
      "cell_type": "code",
      "metadata": {
        "id": "wuWlcuYTIh4L"
      },
      "source": [
        "def create_model(learn_rate = 0.1):\n",
        "  model2 = model.output\n",
        "  model2 = tf.keras.layers.GlobalAveragePooling2D()(model2)\n",
        "  model2 = tf.keras.layers.Dense(1024, activation='relu')(model2)\n",
        "  predictions = tf.keras.layers.Dense(train_generator.num_classes, activation= 'softmax')(model2)\n",
        "  optimizerADAM  = tf.keras.optimizers.Adam(learning_rate=learn_rate)\n",
        "  \n",
        "  finmod  = tf.keras.Model(inputs= model.input , outputs=predictions)\n",
        "  finmod.compile(loss='categorical_crossentropy',optimizer = optimizerADAM, metrics=['accuracy'])\n",
        "  return finmod"
      ],
      "execution_count": null,
      "outputs": []
    },
    {
      "cell_type": "code",
      "metadata": {
        "id": "3YDxbFdhX0_B"
      },
      "source": [
        "final_modelShow = create_model()"
      ],
      "execution_count": null,
      "outputs": []
    },
    {
      "cell_type": "markdown",
      "metadata": {
        "id": "iM3L3tDaMZNc"
      },
      "source": [
        "# Below is the final model structure after adding fully connected layers\n"
      ]
    },
    {
      "cell_type": "code",
      "metadata": {
        "colab": {
          "base_uri": "https://localhost:8080/"
        },
        "id": "RVZm5tQQX_Gr",
        "outputId": "9edadce5-8013-4627-9668-b029b9602df6"
      },
      "source": [
        "final_modelShow.summary()"
      ],
      "execution_count": null,
      "outputs": [
        {
          "output_type": "stream",
          "name": "stdout",
          "text": [
            "Model: \"model_3\"\n",
            "__________________________________________________________________________________________________\n",
            "Layer (type)                    Output Shape         Param #     Connected to                     \n",
            "==================================================================================================\n",
            "input_2 (InputLayer)            [(None, None, None,  0                                            \n",
            "__________________________________________________________________________________________________\n",
            "conv1_pad (ZeroPadding2D)       (None, None, None, 3 0           input_2[0][0]                    \n",
            "__________________________________________________________________________________________________\n",
            "conv1_conv (Conv2D)             (None, None, None, 6 9472        conv1_pad[0][0]                  \n",
            "__________________________________________________________________________________________________\n",
            "conv1_bn (BatchNormalization)   (None, None, None, 6 256         conv1_conv[0][0]                 \n",
            "__________________________________________________________________________________________________\n",
            "conv1_relu (Activation)         (None, None, None, 6 0           conv1_bn[0][0]                   \n",
            "__________________________________________________________________________________________________\n",
            "pool1_pad (ZeroPadding2D)       (None, None, None, 6 0           conv1_relu[0][0]                 \n",
            "__________________________________________________________________________________________________\n",
            "pool1_pool (MaxPooling2D)       (None, None, None, 6 0           pool1_pad[0][0]                  \n",
            "__________________________________________________________________________________________________\n",
            "conv2_block1_1_conv (Conv2D)    (None, None, None, 6 4160        pool1_pool[0][0]                 \n",
            "__________________________________________________________________________________________________\n",
            "conv2_block1_1_bn (BatchNormali (None, None, None, 6 256         conv2_block1_1_conv[0][0]        \n",
            "__________________________________________________________________________________________________\n",
            "conv2_block1_1_relu (Activation (None, None, None, 6 0           conv2_block1_1_bn[0][0]          \n",
            "__________________________________________________________________________________________________\n",
            "conv2_block1_2_conv (Conv2D)    (None, None, None, 6 36928       conv2_block1_1_relu[0][0]        \n",
            "__________________________________________________________________________________________________\n",
            "conv2_block1_2_bn (BatchNormali (None, None, None, 6 256         conv2_block1_2_conv[0][0]        \n",
            "__________________________________________________________________________________________________\n",
            "conv2_block1_2_relu (Activation (None, None, None, 6 0           conv2_block1_2_bn[0][0]          \n",
            "__________________________________________________________________________________________________\n",
            "conv2_block1_0_conv (Conv2D)    (None, None, None, 2 16640       pool1_pool[0][0]                 \n",
            "__________________________________________________________________________________________________\n",
            "conv2_block1_3_conv (Conv2D)    (None, None, None, 2 16640       conv2_block1_2_relu[0][0]        \n",
            "__________________________________________________________________________________________________\n",
            "conv2_block1_0_bn (BatchNormali (None, None, None, 2 1024        conv2_block1_0_conv[0][0]        \n",
            "__________________________________________________________________________________________________\n",
            "conv2_block1_3_bn (BatchNormali (None, None, None, 2 1024        conv2_block1_3_conv[0][0]        \n",
            "__________________________________________________________________________________________________\n",
            "conv2_block1_add (Add)          (None, None, None, 2 0           conv2_block1_0_bn[0][0]          \n",
            "                                                                 conv2_block1_3_bn[0][0]          \n",
            "__________________________________________________________________________________________________\n",
            "conv2_block1_out (Activation)   (None, None, None, 2 0           conv2_block1_add[0][0]           \n",
            "__________________________________________________________________________________________________\n",
            "conv2_block2_1_conv (Conv2D)    (None, None, None, 6 16448       conv2_block1_out[0][0]           \n",
            "__________________________________________________________________________________________________\n",
            "conv2_block2_1_bn (BatchNormali (None, None, None, 6 256         conv2_block2_1_conv[0][0]        \n",
            "__________________________________________________________________________________________________\n",
            "conv2_block2_1_relu (Activation (None, None, None, 6 0           conv2_block2_1_bn[0][0]          \n",
            "__________________________________________________________________________________________________\n",
            "conv2_block2_2_conv (Conv2D)    (None, None, None, 6 36928       conv2_block2_1_relu[0][0]        \n",
            "__________________________________________________________________________________________________\n",
            "conv2_block2_2_bn (BatchNormali (None, None, None, 6 256         conv2_block2_2_conv[0][0]        \n",
            "__________________________________________________________________________________________________\n",
            "conv2_block2_2_relu (Activation (None, None, None, 6 0           conv2_block2_2_bn[0][0]          \n",
            "__________________________________________________________________________________________________\n",
            "conv2_block2_3_conv (Conv2D)    (None, None, None, 2 16640       conv2_block2_2_relu[0][0]        \n",
            "__________________________________________________________________________________________________\n",
            "conv2_block2_3_bn (BatchNormali (None, None, None, 2 1024        conv2_block2_3_conv[0][0]        \n",
            "__________________________________________________________________________________________________\n",
            "conv2_block2_add (Add)          (None, None, None, 2 0           conv2_block1_out[0][0]           \n",
            "                                                                 conv2_block2_3_bn[0][0]          \n",
            "__________________________________________________________________________________________________\n",
            "conv2_block2_out (Activation)   (None, None, None, 2 0           conv2_block2_add[0][0]           \n",
            "__________________________________________________________________________________________________\n",
            "conv2_block3_1_conv (Conv2D)    (None, None, None, 6 16448       conv2_block2_out[0][0]           \n",
            "__________________________________________________________________________________________________\n",
            "conv2_block3_1_bn (BatchNormali (None, None, None, 6 256         conv2_block3_1_conv[0][0]        \n",
            "__________________________________________________________________________________________________\n",
            "conv2_block3_1_relu (Activation (None, None, None, 6 0           conv2_block3_1_bn[0][0]          \n",
            "__________________________________________________________________________________________________\n",
            "conv2_block3_2_conv (Conv2D)    (None, None, None, 6 36928       conv2_block3_1_relu[0][0]        \n",
            "__________________________________________________________________________________________________\n",
            "conv2_block3_2_bn (BatchNormali (None, None, None, 6 256         conv2_block3_2_conv[0][0]        \n",
            "__________________________________________________________________________________________________\n",
            "conv2_block3_2_relu (Activation (None, None, None, 6 0           conv2_block3_2_bn[0][0]          \n",
            "__________________________________________________________________________________________________\n",
            "conv2_block3_3_conv (Conv2D)    (None, None, None, 2 16640       conv2_block3_2_relu[0][0]        \n",
            "__________________________________________________________________________________________________\n",
            "conv2_block3_3_bn (BatchNormali (None, None, None, 2 1024        conv2_block3_3_conv[0][0]        \n",
            "__________________________________________________________________________________________________\n",
            "conv2_block3_add (Add)          (None, None, None, 2 0           conv2_block2_out[0][0]           \n",
            "                                                                 conv2_block3_3_bn[0][0]          \n",
            "__________________________________________________________________________________________________\n",
            "conv2_block3_out (Activation)   (None, None, None, 2 0           conv2_block3_add[0][0]           \n",
            "__________________________________________________________________________________________________\n",
            "conv3_block1_1_conv (Conv2D)    (None, None, None, 1 32896       conv2_block3_out[0][0]           \n",
            "__________________________________________________________________________________________________\n",
            "conv3_block1_1_bn (BatchNormali (None, None, None, 1 512         conv3_block1_1_conv[0][0]        \n",
            "__________________________________________________________________________________________________\n",
            "conv3_block1_1_relu (Activation (None, None, None, 1 0           conv3_block1_1_bn[0][0]          \n",
            "__________________________________________________________________________________________________\n",
            "conv3_block1_2_conv (Conv2D)    (None, None, None, 1 147584      conv3_block1_1_relu[0][0]        \n",
            "__________________________________________________________________________________________________\n",
            "conv3_block1_2_bn (BatchNormali (None, None, None, 1 512         conv3_block1_2_conv[0][0]        \n",
            "__________________________________________________________________________________________________\n",
            "conv3_block1_2_relu (Activation (None, None, None, 1 0           conv3_block1_2_bn[0][0]          \n",
            "__________________________________________________________________________________________________\n",
            "conv3_block1_0_conv (Conv2D)    (None, None, None, 5 131584      conv2_block3_out[0][0]           \n",
            "__________________________________________________________________________________________________\n",
            "conv3_block1_3_conv (Conv2D)    (None, None, None, 5 66048       conv3_block1_2_relu[0][0]        \n",
            "__________________________________________________________________________________________________\n",
            "conv3_block1_0_bn (BatchNormali (None, None, None, 5 2048        conv3_block1_0_conv[0][0]        \n",
            "__________________________________________________________________________________________________\n",
            "conv3_block1_3_bn (BatchNormali (None, None, None, 5 2048        conv3_block1_3_conv[0][0]        \n",
            "__________________________________________________________________________________________________\n",
            "conv3_block1_add (Add)          (None, None, None, 5 0           conv3_block1_0_bn[0][0]          \n",
            "                                                                 conv3_block1_3_bn[0][0]          \n",
            "__________________________________________________________________________________________________\n",
            "conv3_block1_out (Activation)   (None, None, None, 5 0           conv3_block1_add[0][0]           \n",
            "__________________________________________________________________________________________________\n",
            "conv3_block2_1_conv (Conv2D)    (None, None, None, 1 65664       conv3_block1_out[0][0]           \n",
            "__________________________________________________________________________________________________\n",
            "conv3_block2_1_bn (BatchNormali (None, None, None, 1 512         conv3_block2_1_conv[0][0]        \n",
            "__________________________________________________________________________________________________\n",
            "conv3_block2_1_relu (Activation (None, None, None, 1 0           conv3_block2_1_bn[0][0]          \n",
            "__________________________________________________________________________________________________\n",
            "conv3_block2_2_conv (Conv2D)    (None, None, None, 1 147584      conv3_block2_1_relu[0][0]        \n",
            "__________________________________________________________________________________________________\n",
            "conv3_block2_2_bn (BatchNormali (None, None, None, 1 512         conv3_block2_2_conv[0][0]        \n",
            "__________________________________________________________________________________________________\n",
            "conv3_block2_2_relu (Activation (None, None, None, 1 0           conv3_block2_2_bn[0][0]          \n",
            "__________________________________________________________________________________________________\n",
            "conv3_block2_3_conv (Conv2D)    (None, None, None, 5 66048       conv3_block2_2_relu[0][0]        \n",
            "__________________________________________________________________________________________________\n",
            "conv3_block2_3_bn (BatchNormali (None, None, None, 5 2048        conv3_block2_3_conv[0][0]        \n",
            "__________________________________________________________________________________________________\n",
            "conv3_block2_add (Add)          (None, None, None, 5 0           conv3_block1_out[0][0]           \n",
            "                                                                 conv3_block2_3_bn[0][0]          \n",
            "__________________________________________________________________________________________________\n",
            "conv3_block2_out (Activation)   (None, None, None, 5 0           conv3_block2_add[0][0]           \n",
            "__________________________________________________________________________________________________\n",
            "conv3_block3_1_conv (Conv2D)    (None, None, None, 1 65664       conv3_block2_out[0][0]           \n",
            "__________________________________________________________________________________________________\n",
            "conv3_block3_1_bn (BatchNormali (None, None, None, 1 512         conv3_block3_1_conv[0][0]        \n",
            "__________________________________________________________________________________________________\n",
            "conv3_block3_1_relu (Activation (None, None, None, 1 0           conv3_block3_1_bn[0][0]          \n",
            "__________________________________________________________________________________________________\n",
            "conv3_block3_2_conv (Conv2D)    (None, None, None, 1 147584      conv3_block3_1_relu[0][0]        \n",
            "__________________________________________________________________________________________________\n",
            "conv3_block3_2_bn (BatchNormali (None, None, None, 1 512         conv3_block3_2_conv[0][0]        \n",
            "__________________________________________________________________________________________________\n",
            "conv3_block3_2_relu (Activation (None, None, None, 1 0           conv3_block3_2_bn[0][0]          \n",
            "__________________________________________________________________________________________________\n",
            "conv3_block3_3_conv (Conv2D)    (None, None, None, 5 66048       conv3_block3_2_relu[0][0]        \n",
            "__________________________________________________________________________________________________\n",
            "conv3_block3_3_bn (BatchNormali (None, None, None, 5 2048        conv3_block3_3_conv[0][0]        \n",
            "__________________________________________________________________________________________________\n",
            "conv3_block3_add (Add)          (None, None, None, 5 0           conv3_block2_out[0][0]           \n",
            "                                                                 conv3_block3_3_bn[0][0]          \n",
            "__________________________________________________________________________________________________\n",
            "conv3_block3_out (Activation)   (None, None, None, 5 0           conv3_block3_add[0][0]           \n",
            "__________________________________________________________________________________________________\n",
            "conv3_block4_1_conv (Conv2D)    (None, None, None, 1 65664       conv3_block3_out[0][0]           \n",
            "__________________________________________________________________________________________________\n",
            "conv3_block4_1_bn (BatchNormali (None, None, None, 1 512         conv3_block4_1_conv[0][0]        \n",
            "__________________________________________________________________________________________________\n",
            "conv3_block4_1_relu (Activation (None, None, None, 1 0           conv3_block4_1_bn[0][0]          \n",
            "__________________________________________________________________________________________________\n",
            "conv3_block4_2_conv (Conv2D)    (None, None, None, 1 147584      conv3_block4_1_relu[0][0]        \n",
            "__________________________________________________________________________________________________\n",
            "conv3_block4_2_bn (BatchNormali (None, None, None, 1 512         conv3_block4_2_conv[0][0]        \n",
            "__________________________________________________________________________________________________\n",
            "conv3_block4_2_relu (Activation (None, None, None, 1 0           conv3_block4_2_bn[0][0]          \n",
            "__________________________________________________________________________________________________\n",
            "conv3_block4_3_conv (Conv2D)    (None, None, None, 5 66048       conv3_block4_2_relu[0][0]        \n",
            "__________________________________________________________________________________________________\n",
            "conv3_block4_3_bn (BatchNormali (None, None, None, 5 2048        conv3_block4_3_conv[0][0]        \n",
            "__________________________________________________________________________________________________\n",
            "conv3_block4_add (Add)          (None, None, None, 5 0           conv3_block3_out[0][0]           \n",
            "                                                                 conv3_block4_3_bn[0][0]          \n",
            "__________________________________________________________________________________________________\n",
            "conv3_block4_out (Activation)   (None, None, None, 5 0           conv3_block4_add[0][0]           \n",
            "__________________________________________________________________________________________________\n",
            "conv4_block1_1_conv (Conv2D)    (None, None, None, 2 131328      conv3_block4_out[0][0]           \n",
            "__________________________________________________________________________________________________\n",
            "conv4_block1_1_bn (BatchNormali (None, None, None, 2 1024        conv4_block1_1_conv[0][0]        \n",
            "__________________________________________________________________________________________________\n",
            "conv4_block1_1_relu (Activation (None, None, None, 2 0           conv4_block1_1_bn[0][0]          \n",
            "__________________________________________________________________________________________________\n",
            "conv4_block1_2_conv (Conv2D)    (None, None, None, 2 590080      conv4_block1_1_relu[0][0]        \n",
            "__________________________________________________________________________________________________\n",
            "conv4_block1_2_bn (BatchNormali (None, None, None, 2 1024        conv4_block1_2_conv[0][0]        \n",
            "__________________________________________________________________________________________________\n",
            "conv4_block1_2_relu (Activation (None, None, None, 2 0           conv4_block1_2_bn[0][0]          \n",
            "__________________________________________________________________________________________________\n",
            "conv4_block1_0_conv (Conv2D)    (None, None, None, 1 525312      conv3_block4_out[0][0]           \n",
            "__________________________________________________________________________________________________\n",
            "conv4_block1_3_conv (Conv2D)    (None, None, None, 1 263168      conv4_block1_2_relu[0][0]        \n",
            "__________________________________________________________________________________________________\n",
            "conv4_block1_0_bn (BatchNormali (None, None, None, 1 4096        conv4_block1_0_conv[0][0]        \n",
            "__________________________________________________________________________________________________\n",
            "conv4_block1_3_bn (BatchNormali (None, None, None, 1 4096        conv4_block1_3_conv[0][0]        \n",
            "__________________________________________________________________________________________________\n",
            "conv4_block1_add (Add)          (None, None, None, 1 0           conv4_block1_0_bn[0][0]          \n",
            "                                                                 conv4_block1_3_bn[0][0]          \n",
            "__________________________________________________________________________________________________\n",
            "conv4_block1_out (Activation)   (None, None, None, 1 0           conv4_block1_add[0][0]           \n",
            "__________________________________________________________________________________________________\n",
            "conv4_block2_1_conv (Conv2D)    (None, None, None, 2 262400      conv4_block1_out[0][0]           \n",
            "__________________________________________________________________________________________________\n",
            "conv4_block2_1_bn (BatchNormali (None, None, None, 2 1024        conv4_block2_1_conv[0][0]        \n",
            "__________________________________________________________________________________________________\n",
            "conv4_block2_1_relu (Activation (None, None, None, 2 0           conv4_block2_1_bn[0][0]          \n",
            "__________________________________________________________________________________________________\n",
            "conv4_block2_2_conv (Conv2D)    (None, None, None, 2 590080      conv4_block2_1_relu[0][0]        \n",
            "__________________________________________________________________________________________________\n",
            "conv4_block2_2_bn (BatchNormali (None, None, None, 2 1024        conv4_block2_2_conv[0][0]        \n",
            "__________________________________________________________________________________________________\n",
            "conv4_block2_2_relu (Activation (None, None, None, 2 0           conv4_block2_2_bn[0][0]          \n",
            "__________________________________________________________________________________________________\n",
            "conv4_block2_3_conv (Conv2D)    (None, None, None, 1 263168      conv4_block2_2_relu[0][0]        \n",
            "__________________________________________________________________________________________________\n",
            "conv4_block2_3_bn (BatchNormali (None, None, None, 1 4096        conv4_block2_3_conv[0][0]        \n",
            "__________________________________________________________________________________________________\n",
            "conv4_block2_add (Add)          (None, None, None, 1 0           conv4_block1_out[0][0]           \n",
            "                                                                 conv4_block2_3_bn[0][0]          \n",
            "__________________________________________________________________________________________________\n",
            "conv4_block2_out (Activation)   (None, None, None, 1 0           conv4_block2_add[0][0]           \n",
            "__________________________________________________________________________________________________\n",
            "conv4_block3_1_conv (Conv2D)    (None, None, None, 2 262400      conv4_block2_out[0][0]           \n",
            "__________________________________________________________________________________________________\n",
            "conv4_block3_1_bn (BatchNormali (None, None, None, 2 1024        conv4_block3_1_conv[0][0]        \n",
            "__________________________________________________________________________________________________\n",
            "conv4_block3_1_relu (Activation (None, None, None, 2 0           conv4_block3_1_bn[0][0]          \n",
            "__________________________________________________________________________________________________\n",
            "conv4_block3_2_conv (Conv2D)    (None, None, None, 2 590080      conv4_block3_1_relu[0][0]        \n",
            "__________________________________________________________________________________________________\n",
            "conv4_block3_2_bn (BatchNormali (None, None, None, 2 1024        conv4_block3_2_conv[0][0]        \n",
            "__________________________________________________________________________________________________\n",
            "conv4_block3_2_relu (Activation (None, None, None, 2 0           conv4_block3_2_bn[0][0]          \n",
            "__________________________________________________________________________________________________\n",
            "conv4_block3_3_conv (Conv2D)    (None, None, None, 1 263168      conv4_block3_2_relu[0][0]        \n",
            "__________________________________________________________________________________________________\n",
            "conv4_block3_3_bn (BatchNormali (None, None, None, 1 4096        conv4_block3_3_conv[0][0]        \n",
            "__________________________________________________________________________________________________\n",
            "conv4_block3_add (Add)          (None, None, None, 1 0           conv4_block2_out[0][0]           \n",
            "                                                                 conv4_block3_3_bn[0][0]          \n",
            "__________________________________________________________________________________________________\n",
            "conv4_block3_out (Activation)   (None, None, None, 1 0           conv4_block3_add[0][0]           \n",
            "__________________________________________________________________________________________________\n",
            "conv4_block4_1_conv (Conv2D)    (None, None, None, 2 262400      conv4_block3_out[0][0]           \n",
            "__________________________________________________________________________________________________\n",
            "conv4_block4_1_bn (BatchNormali (None, None, None, 2 1024        conv4_block4_1_conv[0][0]        \n",
            "__________________________________________________________________________________________________\n",
            "conv4_block4_1_relu (Activation (None, None, None, 2 0           conv4_block4_1_bn[0][0]          \n",
            "__________________________________________________________________________________________________\n",
            "conv4_block4_2_conv (Conv2D)    (None, None, None, 2 590080      conv4_block4_1_relu[0][0]        \n",
            "__________________________________________________________________________________________________\n",
            "conv4_block4_2_bn (BatchNormali (None, None, None, 2 1024        conv4_block4_2_conv[0][0]        \n",
            "__________________________________________________________________________________________________\n",
            "conv4_block4_2_relu (Activation (None, None, None, 2 0           conv4_block4_2_bn[0][0]          \n",
            "__________________________________________________________________________________________________\n",
            "conv4_block4_3_conv (Conv2D)    (None, None, None, 1 263168      conv4_block4_2_relu[0][0]        \n",
            "__________________________________________________________________________________________________\n",
            "conv4_block4_3_bn (BatchNormali (None, None, None, 1 4096        conv4_block4_3_conv[0][0]        \n",
            "__________________________________________________________________________________________________\n",
            "conv4_block4_add (Add)          (None, None, None, 1 0           conv4_block3_out[0][0]           \n",
            "                                                                 conv4_block4_3_bn[0][0]          \n",
            "__________________________________________________________________________________________________\n",
            "conv4_block4_out (Activation)   (None, None, None, 1 0           conv4_block4_add[0][0]           \n",
            "__________________________________________________________________________________________________\n",
            "conv4_block5_1_conv (Conv2D)    (None, None, None, 2 262400      conv4_block4_out[0][0]           \n",
            "__________________________________________________________________________________________________\n",
            "conv4_block5_1_bn (BatchNormali (None, None, None, 2 1024        conv4_block5_1_conv[0][0]        \n",
            "__________________________________________________________________________________________________\n",
            "conv4_block5_1_relu (Activation (None, None, None, 2 0           conv4_block5_1_bn[0][0]          \n",
            "__________________________________________________________________________________________________\n",
            "conv4_block5_2_conv (Conv2D)    (None, None, None, 2 590080      conv4_block5_1_relu[0][0]        \n",
            "__________________________________________________________________________________________________\n",
            "conv4_block5_2_bn (BatchNormali (None, None, None, 2 1024        conv4_block5_2_conv[0][0]        \n",
            "__________________________________________________________________________________________________\n",
            "conv4_block5_2_relu (Activation (None, None, None, 2 0           conv4_block5_2_bn[0][0]          \n",
            "__________________________________________________________________________________________________\n",
            "conv4_block5_3_conv (Conv2D)    (None, None, None, 1 263168      conv4_block5_2_relu[0][0]        \n",
            "__________________________________________________________________________________________________\n",
            "conv4_block5_3_bn (BatchNormali (None, None, None, 1 4096        conv4_block5_3_conv[0][0]        \n",
            "__________________________________________________________________________________________________\n",
            "conv4_block5_add (Add)          (None, None, None, 1 0           conv4_block4_out[0][0]           \n",
            "                                                                 conv4_block5_3_bn[0][0]          \n",
            "__________________________________________________________________________________________________\n",
            "conv4_block5_out (Activation)   (None, None, None, 1 0           conv4_block5_add[0][0]           \n",
            "__________________________________________________________________________________________________\n",
            "conv4_block6_1_conv (Conv2D)    (None, None, None, 2 262400      conv4_block5_out[0][0]           \n",
            "__________________________________________________________________________________________________\n",
            "conv4_block6_1_bn (BatchNormali (None, None, None, 2 1024        conv4_block6_1_conv[0][0]        \n",
            "__________________________________________________________________________________________________\n",
            "conv4_block6_1_relu (Activation (None, None, None, 2 0           conv4_block6_1_bn[0][0]          \n",
            "__________________________________________________________________________________________________\n",
            "conv4_block6_2_conv (Conv2D)    (None, None, None, 2 590080      conv4_block6_1_relu[0][0]        \n",
            "__________________________________________________________________________________________________\n",
            "conv4_block6_2_bn (BatchNormali (None, None, None, 2 1024        conv4_block6_2_conv[0][0]        \n",
            "__________________________________________________________________________________________________\n",
            "conv4_block6_2_relu (Activation (None, None, None, 2 0           conv4_block6_2_bn[0][0]          \n",
            "__________________________________________________________________________________________________\n",
            "conv4_block6_3_conv (Conv2D)    (None, None, None, 1 263168      conv4_block6_2_relu[0][0]        \n",
            "__________________________________________________________________________________________________\n",
            "conv4_block6_3_bn (BatchNormali (None, None, None, 1 4096        conv4_block6_3_conv[0][0]        \n",
            "__________________________________________________________________________________________________\n",
            "conv4_block6_add (Add)          (None, None, None, 1 0           conv4_block5_out[0][0]           \n",
            "                                                                 conv4_block6_3_bn[0][0]          \n",
            "__________________________________________________________________________________________________\n",
            "conv4_block6_out (Activation)   (None, None, None, 1 0           conv4_block6_add[0][0]           \n",
            "__________________________________________________________________________________________________\n",
            "conv5_block1_1_conv (Conv2D)    (None, None, None, 5 524800      conv4_block6_out[0][0]           \n",
            "__________________________________________________________________________________________________\n",
            "conv5_block1_1_bn (BatchNormali (None, None, None, 5 2048        conv5_block1_1_conv[0][0]        \n",
            "__________________________________________________________________________________________________\n",
            "conv5_block1_1_relu (Activation (None, None, None, 5 0           conv5_block1_1_bn[0][0]          \n",
            "__________________________________________________________________________________________________\n",
            "conv5_block1_2_conv (Conv2D)    (None, None, None, 5 2359808     conv5_block1_1_relu[0][0]        \n",
            "__________________________________________________________________________________________________\n",
            "conv5_block1_2_bn (BatchNormali (None, None, None, 5 2048        conv5_block1_2_conv[0][0]        \n",
            "__________________________________________________________________________________________________\n",
            "conv5_block1_2_relu (Activation (None, None, None, 5 0           conv5_block1_2_bn[0][0]          \n",
            "__________________________________________________________________________________________________\n",
            "conv5_block1_0_conv (Conv2D)    (None, None, None, 2 2099200     conv4_block6_out[0][0]           \n",
            "__________________________________________________________________________________________________\n",
            "conv5_block1_3_conv (Conv2D)    (None, None, None, 2 1050624     conv5_block1_2_relu[0][0]        \n",
            "__________________________________________________________________________________________________\n",
            "conv5_block1_0_bn (BatchNormali (None, None, None, 2 8192        conv5_block1_0_conv[0][0]        \n",
            "__________________________________________________________________________________________________\n",
            "conv5_block1_3_bn (BatchNormali (None, None, None, 2 8192        conv5_block1_3_conv[0][0]        \n",
            "__________________________________________________________________________________________________\n",
            "conv5_block1_add (Add)          (None, None, None, 2 0           conv5_block1_0_bn[0][0]          \n",
            "                                                                 conv5_block1_3_bn[0][0]          \n",
            "__________________________________________________________________________________________________\n",
            "conv5_block1_out (Activation)   (None, None, None, 2 0           conv5_block1_add[0][0]           \n",
            "__________________________________________________________________________________________________\n",
            "conv5_block2_1_conv (Conv2D)    (None, None, None, 5 1049088     conv5_block1_out[0][0]           \n",
            "__________________________________________________________________________________________________\n",
            "conv5_block2_1_bn (BatchNormali (None, None, None, 5 2048        conv5_block2_1_conv[0][0]        \n",
            "__________________________________________________________________________________________________\n",
            "conv5_block2_1_relu (Activation (None, None, None, 5 0           conv5_block2_1_bn[0][0]          \n",
            "__________________________________________________________________________________________________\n",
            "conv5_block2_2_conv (Conv2D)    (None, None, None, 5 2359808     conv5_block2_1_relu[0][0]        \n",
            "__________________________________________________________________________________________________\n",
            "conv5_block2_2_bn (BatchNormali (None, None, None, 5 2048        conv5_block2_2_conv[0][0]        \n",
            "__________________________________________________________________________________________________\n",
            "conv5_block2_2_relu (Activation (None, None, None, 5 0           conv5_block2_2_bn[0][0]          \n",
            "__________________________________________________________________________________________________\n",
            "conv5_block2_3_conv (Conv2D)    (None, None, None, 2 1050624     conv5_block2_2_relu[0][0]        \n",
            "__________________________________________________________________________________________________\n",
            "conv5_block2_3_bn (BatchNormali (None, None, None, 2 8192        conv5_block2_3_conv[0][0]        \n",
            "__________________________________________________________________________________________________\n",
            "conv5_block2_add (Add)          (None, None, None, 2 0           conv5_block1_out[0][0]           \n",
            "                                                                 conv5_block2_3_bn[0][0]          \n",
            "__________________________________________________________________________________________________\n",
            "conv5_block2_out (Activation)   (None, None, None, 2 0           conv5_block2_add[0][0]           \n",
            "__________________________________________________________________________________________________\n",
            "conv5_block3_1_conv (Conv2D)    (None, None, None, 5 1049088     conv5_block2_out[0][0]           \n",
            "__________________________________________________________________________________________________\n",
            "conv5_block3_1_bn (BatchNormali (None, None, None, 5 2048        conv5_block3_1_conv[0][0]        \n",
            "__________________________________________________________________________________________________\n",
            "conv5_block3_1_relu (Activation (None, None, None, 5 0           conv5_block3_1_bn[0][0]          \n",
            "__________________________________________________________________________________________________\n",
            "conv5_block3_2_conv (Conv2D)    (None, None, None, 5 2359808     conv5_block3_1_relu[0][0]        \n",
            "__________________________________________________________________________________________________\n",
            "conv5_block3_2_bn (BatchNormali (None, None, None, 5 2048        conv5_block3_2_conv[0][0]        \n",
            "__________________________________________________________________________________________________\n",
            "conv5_block3_2_relu (Activation (None, None, None, 5 0           conv5_block3_2_bn[0][0]          \n",
            "__________________________________________________________________________________________________\n",
            "conv5_block3_3_conv (Conv2D)    (None, None, None, 2 1050624     conv5_block3_2_relu[0][0]        \n",
            "__________________________________________________________________________________________________\n",
            "conv5_block3_3_bn (BatchNormali (None, None, None, 2 8192        conv5_block3_3_conv[0][0]        \n",
            "__________________________________________________________________________________________________\n",
            "conv5_block3_add (Add)          (None, None, None, 2 0           conv5_block2_out[0][0]           \n",
            "                                                                 conv5_block3_3_bn[0][0]          \n",
            "__________________________________________________________________________________________________\n",
            "conv5_block3_out (Activation)   (None, None, None, 2 0           conv5_block3_add[0][0]           \n",
            "__________________________________________________________________________________________________\n",
            "global_average_pooling2d_3 (Glo (None, 2048)         0           conv5_block3_out[0][0]           \n",
            "__________________________________________________________________________________________________\n",
            "dense_6 (Dense)                 (None, 1024)         2098176     global_average_pooling2d_3[0][0] \n",
            "__________________________________________________________________________________________________\n",
            "dense_7 (Dense)                 (None, 2)            2050        dense_6[0][0]                    \n",
            "==================================================================================================\n",
            "Total params: 25,687,938\n",
            "Trainable params: 2,100,226\n",
            "Non-trainable params: 23,587,712\n",
            "__________________________________________________________________________________________________\n"
          ]
        }
      ]
    },
    {
      "cell_type": "markdown",
      "metadata": {
        "id": "kSTrI7kpMXsB"
      },
      "source": [
        "# Training of model is done and manual grid search is done to find optimal learning rate parameter and results were discussed \n",
        "# model saved and best model accoringly is loaded and tested on testing data"
      ]
    },
    {
      "cell_type": "code",
      "metadata": {
        "id": "Wx__FXkCTrQP"
      },
      "source": [
        "# grid_out = tf.keras.wrappers.scikit_learn.KerasClassifier(build_fn=create_model, epochs=10, batch_size=64)"
      ],
      "execution_count": null,
      "outputs": []
    },
    {
      "cell_type": "code",
      "metadata": {
        "id": "wRjLGOGKI8aa"
      },
      "source": [
        "# opti_1 = tf.keras.optimizers.Adam(learning_rate=0.1)\n",
        "# opti_2 = tf.keras.optimizers.Adam(learning_rate=0.01)\n",
        "# opti_3 = tf.keras.optimizers.Adam(learning_rate=0.001)\n",
        "# opti_4 = tf.keras.optimizers.Adam(learning_rate=0.0001)\n",
        "# opti_5 = tf.keras.optimizers.Adam(learning_rate=0.00001)\n",
        "# param_grid = dict(optimizer= [opti_1, opti_2, opti_3, opti_4, opti_5])\n",
        "learn_rate = [0.1,0.01,0.001,0.0001,0.00001]\n",
        "param_grid = dict(learn_rate = learn_rate)"
      ],
      "execution_count": null,
      "outputs": []
    },
    {
      "cell_type": "code",
      "metadata": {
        "id": "XmBac3O6Zz3J",
        "colab": {
          "base_uri": "https://localhost:8080/"
        },
        "outputId": "7c026abb-6367-4da1-ea51-ba9f66583be3"
      },
      "source": [
        "accuracymatrix = {\"0.1\":[], \"0.01\":[], \"0.001\":[], \"0.0001\":[], \"0.00001\":[]}\n",
        "val_acc_matrix = {}\n",
        "maxacc = 0.0\n",
        "for i in range(0, len(learn_rate)):\n",
        "\n",
        "  Model_here = create_model(learn_rate=learn_rate[i])\n",
        "\n",
        "  get_it = Model_here.fit(train_generator, validation_data=valid_generator, epochs= 8)\n",
        "  if learn_rate[i] ==1e-1:\n",
        "    accuracymatrix[\"1e-1\"] = get_it.history['accuracy']\n",
        "    val_acc_matrix[\"1e-1\"] = (get_it.history['val_accuracy'])\n",
        "  if learn_rate[i] ==1e-2:\n",
        "    accuracymatrix[\"1e-2\"] = (get_it.history['accuracy'])\n",
        "    val_acc_matrix[\"1e-2\"] = (get_it.history['val_accuracy'])\n",
        "  \n",
        "  if learn_rate[i] ==1e-3:\n",
        "    accuracymatrix[\"1e-3\"] = (get_it.history['accuracy'])\n",
        "    val_acc_matrix[\"1e-3\"] = (get_it.history['val_accuracy'])\n",
        "  if learn_rate[i] ==1e-4:\n",
        "    accuracymatrix[\"1e-4\"] =(get_it.history['accuracy'])\n",
        "    val_acc_matrix[\"1e-4\"] = (get_it.history['val_accuracy'])\n",
        "  if learn_rate[i] ==1e-5:\n",
        "    accuracymatrix[\"1e-5\"] = (get_it.history['accuracy'])\n",
        "    val_acc_matrix[\"1e-5\"] = (get_it.history['val_accuracy'])\n",
        "  \n",
        "  Model_here.save(\"drive/MyDrive/ANN_2021_ASSIGNMENT_1/\" + \"saved_model\" + str(learn_rate[i]))"
      ],
      "execution_count": null,
      "outputs": [
        {
          "output_type": "stream",
          "name": "stdout",
          "text": [
            "Epoch 1/8\n",
            "15/15 [==============================] - ETA: 0s - loss: 488.1771 - accuracy: 0.5242WARNING:tensorflow:6 out of the last 11 calls to <function Model.make_test_function.<locals>.test_function at 0x7f67be86db90> triggered tf.function retracing. Tracing is expensive and the excessive number of tracings could be due to (1) creating @tf.function repeatedly in a loop, (2) passing tensors with different shapes, (3) passing Python objects instead of tensors. For (1), please define your @tf.function outside of the loop. For (2), @tf.function has experimental_relax_shapes=True option that relaxes argument shapes that can avoid unnecessary retracing. For (3), please refer to https://www.tensorflow.org/guide/function#controlling_retracing and https://www.tensorflow.org/api_docs/python/tf/function for  more details.\n",
            "15/15 [==============================] - 157s 10s/step - loss: 488.1771 - accuracy: 0.5242 - val_loss: 43.8328 - val_accuracy: 0.4087\n",
            "Epoch 2/8\n",
            "15/15 [==============================] - 151s 10s/step - loss: 7.6926 - accuracy: 0.5542 - val_loss: 0.7111 - val_accuracy: 0.5913\n",
            "Epoch 3/8\n",
            "15/15 [==============================] - 151s 10s/step - loss: 0.6927 - accuracy: 0.5908 - val_loss: 0.6767 - val_accuracy: 0.5913\n",
            "Epoch 4/8\n",
            "15/15 [==============================] - 151s 10s/step - loss: 0.6795 - accuracy: 0.5908 - val_loss: 0.6769 - val_accuracy: 0.5913\n",
            "Epoch 5/8\n",
            "15/15 [==============================] - 150s 10s/step - loss: 0.6769 - accuracy: 0.5908 - val_loss: 0.6764 - val_accuracy: 0.5913\n",
            "Epoch 6/8\n",
            "15/15 [==============================] - 149s 10s/step - loss: 0.6791 - accuracy: 0.5908 - val_loss: 0.6769 - val_accuracy: 0.5913\n",
            "Epoch 7/8\n",
            "15/15 [==============================] - 150s 10s/step - loss: 0.6767 - accuracy: 0.5908 - val_loss: 0.6769 - val_accuracy: 0.5913\n",
            "Epoch 8/8\n",
            "15/15 [==============================] - 148s 10s/step - loss: 0.6774 - accuracy: 0.5908 - val_loss: 0.6764 - val_accuracy: 0.5913\n",
            "INFO:tensorflow:Assets written to: drive/MyDrive/ANN_2021_ASSIGNMENT_1/saved_model0.1/assets\n"
          ]
        },
        {
          "output_type": "stream",
          "name": "stderr",
          "text": [
            "/usr/local/lib/python3.7/dist-packages/keras/utils/generic_utils.py:497: CustomMaskWarning: Custom mask layers require a config and must override get_config. When loading, the custom mask layer must be passed to the custom_objects argument.\n",
            "  category=CustomMaskWarning)\n"
          ]
        },
        {
          "output_type": "stream",
          "name": "stdout",
          "text": [
            "Epoch 1/8\n",
            "15/15 [==============================] - 159s 10s/step - loss: 10.4576 - accuracy: 0.7250 - val_loss: 0.2126 - val_accuracy: 0.9652\n",
            "Epoch 2/8\n",
            "15/15 [==============================] - 149s 10s/step - loss: 0.3273 - accuracy: 0.9388 - val_loss: 0.1115 - val_accuracy: 0.9478\n",
            "Epoch 3/8\n",
            "15/15 [==============================] - 151s 10s/step - loss: 0.0962 - accuracy: 0.9721 - val_loss: 0.0449 - val_accuracy: 0.9826\n",
            "Epoch 4/8\n",
            "15/15 [==============================] - 151s 10s/step - loss: 0.0401 - accuracy: 0.9893 - val_loss: 0.0505 - val_accuracy: 0.9826\n",
            "Epoch 5/8\n",
            "15/15 [==============================] - 150s 10s/step - loss: 0.0231 - accuracy: 0.9925 - val_loss: 0.0492 - val_accuracy: 0.9913\n",
            "Epoch 6/8\n",
            "15/15 [==============================] - 151s 10s/step - loss: 0.0193 - accuracy: 0.9936 - val_loss: 0.0495 - val_accuracy: 0.9913\n",
            "Epoch 7/8\n",
            "15/15 [==============================] - 151s 10s/step - loss: 0.0135 - accuracy: 0.9979 - val_loss: 0.0439 - val_accuracy: 0.9826\n",
            "Epoch 8/8\n",
            "15/15 [==============================] - 149s 10s/step - loss: 0.0084 - accuracy: 1.0000 - val_loss: 0.0495 - val_accuracy: 0.9913\n",
            "INFO:tensorflow:Assets written to: drive/MyDrive/ANN_2021_ASSIGNMENT_1/saved_model0.01/assets\n"
          ]
        },
        {
          "output_type": "stream",
          "name": "stderr",
          "text": [
            "/usr/local/lib/python3.7/dist-packages/keras/utils/generic_utils.py:497: CustomMaskWarning: Custom mask layers require a config and must override get_config. When loading, the custom mask layer must be passed to the custom_objects argument.\n",
            "  category=CustomMaskWarning)\n"
          ]
        },
        {
          "output_type": "stream",
          "name": "stdout",
          "text": [
            "Epoch 1/8\n",
            "15/15 [==============================] - 155s 10s/step - loss: 2.0523 - accuracy: 0.6455 - val_loss: 0.2308 - val_accuracy: 0.8870\n",
            "Epoch 2/8\n",
            "15/15 [==============================] - 149s 10s/step - loss: 0.2254 - accuracy: 0.8990 - val_loss: 0.0868 - val_accuracy: 0.9826\n",
            "Epoch 3/8\n",
            "15/15 [==============================] - 149s 10s/step - loss: 0.0954 - accuracy: 0.9613 - val_loss: 0.0608 - val_accuracy: 0.9826\n",
            "Epoch 4/8\n",
            "15/15 [==============================] - 149s 10s/step - loss: 0.0640 - accuracy: 0.9817 - val_loss: 0.0524 - val_accuracy: 0.9826\n",
            "Epoch 5/8\n",
            "15/15 [==============================] - 149s 10s/step - loss: 0.0451 - accuracy: 0.9828 - val_loss: 0.0573 - val_accuracy: 0.9826\n",
            "Epoch 6/8\n",
            "15/15 [==============================] - 151s 10s/step - loss: 0.0301 - accuracy: 0.9936 - val_loss: 0.0602 - val_accuracy: 0.9826\n",
            "Epoch 7/8\n",
            "15/15 [==============================] - 150s 10s/step - loss: 0.0213 - accuracy: 0.9989 - val_loss: 0.0390 - val_accuracy: 0.9826\n",
            "Epoch 8/8\n",
            "15/15 [==============================] - 150s 10s/step - loss: 0.0132 - accuracy: 0.9989 - val_loss: 0.0407 - val_accuracy: 0.9826\n",
            "INFO:tensorflow:Assets written to: drive/MyDrive/ANN_2021_ASSIGNMENT_1/saved_model0.001/assets\n"
          ]
        },
        {
          "output_type": "stream",
          "name": "stderr",
          "text": [
            "/usr/local/lib/python3.7/dist-packages/keras/utils/generic_utils.py:497: CustomMaskWarning: Custom mask layers require a config and must override get_config. When loading, the custom mask layer must be passed to the custom_objects argument.\n",
            "  category=CustomMaskWarning)\n"
          ]
        },
        {
          "output_type": "stream",
          "name": "stdout",
          "text": [
            "Epoch 1/8\n",
            "15/15 [==============================] - 157s 10s/step - loss: 0.3277 - accuracy: 0.8464 - val_loss: 0.1814 - val_accuracy: 0.9391\n",
            "Epoch 2/8\n",
            "15/15 [==============================] - 150s 10s/step - loss: 0.0986 - accuracy: 0.9699 - val_loss: 0.0859 - val_accuracy: 0.9652\n",
            "Epoch 3/8\n",
            "15/15 [==============================] - 149s 10s/step - loss: 0.0572 - accuracy: 0.9860 - val_loss: 0.0749 - val_accuracy: 0.9826\n",
            "Epoch 4/8\n",
            "15/15 [==============================] - 149s 10s/step - loss: 0.0399 - accuracy: 0.9914 - val_loss: 0.0644 - val_accuracy: 0.9826\n",
            "Epoch 5/8\n",
            "15/15 [==============================] - 149s 10s/step - loss: 0.0287 - accuracy: 0.9957 - val_loss: 0.0553 - val_accuracy: 0.9826\n",
            "Epoch 6/8\n",
            "15/15 [==============================] - 149s 10s/step - loss: 0.0221 - accuracy: 0.9989 - val_loss: 0.0533 - val_accuracy: 0.9826\n",
            "Epoch 7/8\n",
            "15/15 [==============================] - 149s 10s/step - loss: 0.0175 - accuracy: 1.0000 - val_loss: 0.0525 - val_accuracy: 0.9826\n",
            "Epoch 8/8\n",
            "15/15 [==============================] - 149s 10s/step - loss: 0.0136 - accuracy: 1.0000 - val_loss: 0.0540 - val_accuracy: 0.9826\n",
            "INFO:tensorflow:Assets written to: drive/MyDrive/ANN_2021_ASSIGNMENT_1/saved_model0.0001/assets\n"
          ]
        },
        {
          "output_type": "stream",
          "name": "stderr",
          "text": [
            "/usr/local/lib/python3.7/dist-packages/keras/utils/generic_utils.py:497: CustomMaskWarning: Custom mask layers require a config and must override get_config. When loading, the custom mask layer must be passed to the custom_objects argument.\n",
            "  category=CustomMaskWarning)\n"
          ]
        },
        {
          "output_type": "stream",
          "name": "stdout",
          "text": [
            "Epoch 1/8\n",
            "15/15 [==============================] - 155s 10s/step - loss: 0.6789 - accuracy: 0.6079 - val_loss: 0.5083 - val_accuracy: 0.7652\n",
            "Epoch 2/8\n",
            "15/15 [==============================] - 149s 10s/step - loss: 0.4920 - accuracy: 0.7863 - val_loss: 0.3724 - val_accuracy: 0.8957\n",
            "Epoch 3/8\n",
            "15/15 [==============================] - 149s 10s/step - loss: 0.3787 - accuracy: 0.8711 - val_loss: 0.2871 - val_accuracy: 0.9217\n",
            "Epoch 4/8\n",
            "15/15 [==============================] - 150s 10s/step - loss: 0.3058 - accuracy: 0.9044 - val_loss: 0.2351 - val_accuracy: 0.9304\n",
            "Epoch 5/8\n",
            "15/15 [==============================] - 150s 10s/step - loss: 0.2559 - accuracy: 0.9345 - val_loss: 0.2007 - val_accuracy: 0.9391\n",
            "Epoch 6/8\n",
            "15/15 [==============================] - 149s 10s/step - loss: 0.2206 - accuracy: 0.9431 - val_loss: 0.1749 - val_accuracy: 0.9652\n",
            "Epoch 7/8\n",
            "15/15 [==============================] - 149s 10s/step - loss: 0.1952 - accuracy: 0.9527 - val_loss: 0.1569 - val_accuracy: 0.9652\n",
            "Epoch 8/8\n",
            "15/15 [==============================] - 149s 10s/step - loss: 0.1746 - accuracy: 0.9581 - val_loss: 0.1430 - val_accuracy: 0.9739\n",
            "INFO:tensorflow:Assets written to: drive/MyDrive/ANN_2021_ASSIGNMENT_1/saved_model1e-05/assets\n"
          ]
        },
        {
          "output_type": "stream",
          "name": "stderr",
          "text": [
            "/usr/local/lib/python3.7/dist-packages/keras/utils/generic_utils.py:497: CustomMaskWarning: Custom mask layers require a config and must override get_config. When loading, the custom mask layer must be passed to the custom_objects argument.\n",
            "  category=CustomMaskWarning)\n"
          ]
        }
      ]
    },
    {
      "cell_type": "markdown",
      "metadata": {
        "id": "2CK52zl1-sRy"
      },
      "source": [
        "\n",
        "**Now as we see the above results, we did a traditional grid search which can also be done in an automated way using scikit-learn library STL.**\n",
        "\n",
        "Here we can clearly Observe that the Learning rate of 0.01 works the best in terms of validation accuray of the model. Also, we can clearly observe that the val_loss is one of lowest in case where learning rate = 0.01. Hence, we will go for the model that we saved against training of 0.01 learning rate for running our testing data."
      ]
    },
    {
      "cell_type": "code",
      "metadata": {
        "id": "93VTVdykhM85"
      },
      "source": [
        "Loaded_model = tf.keras.models.load_model(\"drive/MyDrive/ANN_2021_ASSIGNMENT_1/\" + \"saved_model0.01\")"
      ],
      "execution_count": null,
      "outputs": []
    },
    {
      "cell_type": "code",
      "metadata": {
        "colab": {
          "base_uri": "https://localhost:8080/"
        },
        "id": "urf1R6yBhkEs",
        "outputId": "8a1eb87c-b17b-43aa-dd9c-6806b375a06a"
      },
      "source": [
        "Loaded_model.evaluate(test_generator)"
      ],
      "execution_count": null,
      "outputs": [
        {
          "output_type": "stream",
          "name": "stdout",
          "text": [
            "2/2 [==============================] - 17s 6s/step - loss: 0.0519 - accuracy: 0.9826\n"
          ]
        },
        {
          "output_type": "execute_result",
          "data": {
            "text/plain": [
              "[0.05190350115299225, 0.9826086759567261]"
            ]
          },
          "metadata": {},
          "execution_count": 97
        }
      ]
    },
    {
      "cell_type": "markdown",
      "metadata": {
        "id": "A2TTCdqjAC-P"
      },
      "source": [
        "## Here we got a nice testing accuracy of 98.26% which means our model is working fine on new data."
      ]
    },
    {
      "cell_type": "code",
      "metadata": {
        "colab": {
          "base_uri": "https://localhost:8080/",
          "height": 312
        },
        "id": "E4BshmRGgmnn",
        "outputId": "19bd9431-31e3-4126-bea6-08a3632509ab"
      },
      "source": [
        "plt.title('Comparison of Training Accuracy trajectory with different Learning rates')\n",
        "plt.xlabel('Epoch number')\n",
        "plt.ylabel('Accuracy (in range 0 to 1)')\n",
        "plt.plot(accuracymatrix['1e-1'])\n",
        "\n",
        "plt.plot(accuracymatrix['1e-2'])\n",
        "\n",
        "plt.plot(accuracymatrix['1e-3'])\n",
        "plt.plot(accuracymatrix['1e-4'])\n",
        "plt.plot(accuracymatrix['1e-5'])\n",
        "plt.legend(['LR = 0.1' ,'LR = 0.01' ,'LR = 0.001' ,'LR = 0.0001' ,'LR = 0.00001'])"
      ],
      "execution_count": null,
      "outputs": [
        {
          "output_type": "execute_result",
          "data": {
            "text/plain": [
              "<matplotlib.legend.Legend at 0x7f67b1a48dd0>"
            ]
          },
          "metadata": {},
          "execution_count": 89
        },
        {
          "output_type": "display_data",
          "data": {
            "image/png": "[encoded data removed]",
            "text/plain": [
              "<Figure size 432x288 with 1 Axes>"
            ]
          },
          "metadata": {
            "needs_background": "light"
          }
        }
      ]
    },
    {
      "cell_type": "code",
      "metadata": {
        "colab": {
          "base_uri": "https://localhost:8080/",
          "height": 312
        },
        "id": "v3Nxc2joPcJk",
        "outputId": "c8abbfcb-2d49-47fe-c574-ce3a98df9dc3"
      },
      "source": [
        "plt.title('Comparison of Validation data Accuracy trajectory with different Learning rates')\n",
        "plt.xlabel('Epoch number')\n",
        "plt.ylabel('Accuracy (in range 0 to 1)')\n",
        "plt.plot(val_acc_matrix['1e-1'])\n",
        "plt.plot(val_acc_matrix['1e-2'])\n",
        "plt.plot(val_acc_matrix['1e-3'])\n",
        "plt.plot(val_acc_matrix['1e-4'])\n",
        "plt.plot(val_acc_matrix['1e-5'])\n",
        "\n",
        "plt.legend(['LR = 0.1' ,'LR = 0.01' ,'LR = 0.001' ,'LR = 0.0001' ,'LR = 0.00001'])"
      ],
      "execution_count": null,
      "outputs": [
        {
          "output_type": "execute_result",
          "data": {
            "text/plain": [
              "<matplotlib.legend.Legend at 0x7f67b10bc590>"
            ]
          },
          "metadata": {},
          "execution_count": 93
        },
        {
          "output_type": "display_data",
          "data": {
            "image/png": "[encoded data removed]",
            "text/plain": [
              "<Figure size 432x288 with 1 Axes>"
            ]
          },
          "metadata": {
            "needs_background": "light"
          }
        }
      ]
    },
    {
      "cell_type": "markdown",
      "metadata": {
        "id": "vv3IYk0oJVDk"
      },
      "source": [
        "Let's Now compare the learned classifier model with a random classifier model"
      ]
    },
    {
      "cell_type": "code",
      "metadata": {
        "id": "YR50HXxtJb31"
      },
      "source": [
        "random_class_model = create_model()"
      ],
      "execution_count": null,
      "outputs": []
    },
    {
      "cell_type": "code",
      "metadata": {
        "colab": {
          "base_uri": "https://localhost:8080/"
        },
        "id": "tUIHoXq8JiJQ",
        "outputId": "7df74f1b-cc9a-4e1f-bbcd-483386f60e94"
      },
      "source": [
        "random_class_model.evaluate(test_generator)"
      ],
      "execution_count": null,
      "outputs": [
        {
          "output_type": "stream",
          "name": "stdout",
          "text": [
            "2/2 [==============================] - 19s 6s/step - loss: 0.7392 - accuracy: 0.5565\n"
          ]
        },
        {
          "output_type": "execute_result",
          "data": {
            "text/plain": [
              "[0.7391884326934814, 0.5565217137336731]"
            ]
          },
          "metadata": {},
          "execution_count": 95
        }
      ]
    },
    {
      "cell_type": "code",
      "metadata": {
        "colab": {
          "base_uri": "https://localhost:8080/"
        },
        "id": "j8ORiL2QJliT",
        "outputId": "5daf242f-c61c-4ca4-962f-ff1fdbbfc62b"
      },
      "source": [
        "Loaded_model.evaluate(test_generator)"
      ],
      "execution_count": null,
      "outputs": [
        {
          "output_type": "stream",
          "name": "stdout",
          "text": [
            "2/2 [==============================] - 17s 6s/step - loss: 0.0519 - accuracy: 0.9826\n"
          ]
        },
        {
          "output_type": "execute_result",
          "data": {
            "text/plain": [
              "[0.05190350115299225, 0.9826086759567261]"
            ]
          },
          "metadata": {},
          "execution_count": 98
        }
      ]
    },
    {
      "cell_type": "markdown",
      "metadata": {
        "id": "oLp7Tk2tJ_jW"
      },
      "source": [
        "**Clearly we can see that the Loaded_model i.e. the learned classifier is perfoming far better than the random_class_model which is not trained on any data. Learned Classifier has accuracy of 98.26% and whereas the Random Model has accuracy of just 55.65% which is very poor compared to Learned classifier**"
      ]
    },
    {
      "cell_type": "code",
      "metadata": {
        "id": "L_A5x-uuKbNE"
      },
      "source": [
        ""
      ],
      "execution_count": null,
      "outputs": []
    }
  ]
}